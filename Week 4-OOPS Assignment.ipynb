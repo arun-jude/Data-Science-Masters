{
 "cells": [
  {
   "cell_type": "code",
   "execution_count": 15,
   "id": "dedd4b32-1145-4f1a-8f8e-b30303e465f7",
   "metadata": {},
   "outputs": [],
   "source": [
    "# Question 1. \n",
    "#A class is a user-defined blueprint or prototype from which objects are created.\n",
    "# An Object is an instance of a Class. A class is like a blueprint while an instance is a copy of the class with actual values.\n",
    "class course:\n",
    "    def __init__ (self, course_name, course_id, course_desc):\n",
    "        self.course_name=course_name\n",
    "        self.course_id=course_id\n",
    "        self.course_desc=course_desc\n",
    "    \n",
    "    def course_details(self):\n",
    "        return self.course_id, self.course_name, self.course_desc\n",
    "        "
   ]
  },
  {
   "cell_type": "code",
   "execution_count": 12,
   "id": "da9223c7-f98d-4a7e-8aeb-1601dda91b60",
   "metadata": {},
   "outputs": [],
   "source": [
    "course_obj=course(\"Data Science Masters\", 1234,\"Data Science course details\")"
   ]
  },
  {
   "cell_type": "code",
   "execution_count": 14,
   "id": "9cffb3d5-a90d-4902-a819-d15c92feb897",
   "metadata": {},
   "outputs": [
    {
     "data": {
      "text/plain": [
       "(1234, 'Data Science Masters', 'Data Science course details')"
      ]
     },
     "execution_count": 14,
     "metadata": {},
     "output_type": "execute_result"
    }
   ],
   "source": [
    "course_obj.course_details()"
   ]
  },
  {
   "cell_type": "code",
   "execution_count": 16,
   "id": "793b2565-2775-454d-adb1-1c2e46734fa5",
   "metadata": {},
   "outputs": [],
   "source": [
    "# Question 2.\n",
    "# The four pillars of OOPs are Inheritance, Polymorphism, Encapsulation and Abstraction."
   ]
  },
  {
   "cell_type": "code",
   "execution_count": 20,
   "id": "ab88dbff-9dd1-48fd-94d9-d5b333f15fb6",
   "metadata": {},
   "outputs": [],
   "source": [
    "# Question 3.\n",
    "# The __init__ method lets the class initialize the object's attributes. For Example\n",
    "\n",
    "class car:\n",
    "    def __init__(self,car_make,car_model,year_of_manu):\n",
    "        self.car_make=car_make\n",
    "        self.car_model=car_model\n",
    "        self.year_of_manu=year_of_manu\n",
    "    \n",
    "    def car_details(self):\n",
    "        return self.car_make, self.car_model, self.year_of_manu"
   ]
  },
  {
   "cell_type": "code",
   "execution_count": 21,
   "id": "c97c1d19-ff8d-427e-8aff-47bf2224d8f6",
   "metadata": {},
   "outputs": [],
   "source": [
    "car_obj=car(\"Maruti\",\"Ertiga\",2023)"
   ]
  },
  {
   "cell_type": "code",
   "execution_count": 22,
   "id": "1dd83906-879b-4d03-84c5-3929c11caa22",
   "metadata": {},
   "outputs": [
    {
     "data": {
      "text/plain": [
       "('Maruti', 'Ertiga', 2023)"
      ]
     },
     "execution_count": 22,
     "metadata": {},
     "output_type": "execute_result"
    }
   ],
   "source": [
    "car_obj.car_details()"
   ]
  },
  {
   "cell_type": "code",
   "execution_count": 23,
   "id": "4d832fcd-0a6d-4f0f-80e9-d5df3db9de88",
   "metadata": {},
   "outputs": [],
   "source": [
    "# Question 4\n",
    "# Self is used in OOPs to allow us to access variables, attributes, and methods of a defined class in Python.\n",
    "#The self parameter doesn't have to be named as “self,” as you can call it by any other name"
   ]
  },
  {
   "cell_type": "code",
   "execution_count": 1,
   "id": "1a1ff886-cbad-498f-8264-4e64fc7c6b33",
   "metadata": {},
   "outputs": [],
   "source": [
    "# Question 5. Inheritance in Python.\n",
    "#  It is a mechanism that allows you to create a hierarchy of classes that share a set of properties and methods by deriving a class from another class.\n",
    "# Inheritance is the capability of one class to derive or inherit the properties from another class. \n",
    "# Types of Inheritance. 1. Single Inheritance; 2. Multiple Inheritance; 3. Multi Level Inheritance; 4. Hierarchical Inheritance; 5. Hybrid Inheritance"
   ]
  },
  {
   "cell_type": "code",
   "execution_count": 18,
   "id": "4fa892ca-d5bd-4eb4-9fbb-f86e89471ea9",
   "metadata": {},
   "outputs": [],
   "source": [
    "# 1. Single Inheritance example\n",
    "class class1:\n",
    "    def class1_func(self):\n",
    "        print(\"class 1 function\")\n",
    "        pass\n",
    "\n",
    "class class2(class1):\n",
    "    def class2_func(self):\n",
    "        print(\"class 2 function\")\n",
    "        pass"
   ]
  },
  {
   "cell_type": "code",
   "execution_count": 19,
   "id": "7d998833-8ab1-479b-8e2e-24aa1a1a577e",
   "metadata": {},
   "outputs": [],
   "source": [
    "class2_obj=class2()"
   ]
  },
  {
   "cell_type": "code",
   "execution_count": 20,
   "id": "a48cc4b6-897c-42e6-b9c9-711bbf32d7c2",
   "metadata": {},
   "outputs": [
    {
     "name": "stdout",
     "output_type": "stream",
     "text": [
      "class 1 function\n"
     ]
    }
   ],
   "source": [
    "class2_obj.class1_func()"
   ]
  },
  {
   "cell_type": "code",
   "execution_count": 24,
   "id": "70f5fcd7-ed68-4c47-bc12-9d52a19e67b8",
   "metadata": {},
   "outputs": [
    {
     "name": "stdout",
     "output_type": "stream",
     "text": [
      "class 1 function\n"
     ]
    }
   ],
   "source": [
    "# 2. Multiple Inheritance example\n",
    "class class1:\n",
    "    def class1_func(self):\n",
    "        print(\"class 1 function\")\n",
    "        pass\n",
    "class class3:\n",
    "    def class3_func(self):\n",
    "        print(\"class 3 function\")\n",
    "        pass\n",
    "    \n",
    "class class4(class1, class3):\n",
    "    def class4_func(self):\n",
    "        print(\"class 4 function\")\n",
    "        pass\n",
    "class4_obj=class4()\n",
    "class4_obj.class1_func()"
   ]
  },
  {
   "cell_type": "code",
   "execution_count": 25,
   "id": "57561540-776d-4502-ae1b-221e6222204e",
   "metadata": {},
   "outputs": [
    {
     "name": "stdout",
     "output_type": "stream",
     "text": [
      "class 2 function\n",
      "class 1 function\n"
     ]
    }
   ],
   "source": [
    "# 3.Multi Level Inheritance example\n",
    "class class1:\n",
    "    def class1_func(self):\n",
    "        print(\"class 1 function\")\n",
    "        pass\n",
    "\n",
    "class class2(class1):\n",
    "    def class2_func(self):\n",
    "        print(\"class 2 function\")\n",
    "        pass\n",
    "class class5(class2):\n",
    "    def class5_func(self):\n",
    "        print(\"class 5 function\")\n",
    "        pass\n",
    "class5_obj=class5()\n",
    "class5_obj.class2_func()\n",
    "class5_obj.class1_func()"
   ]
  },
  {
   "cell_type": "code",
   "execution_count": 31,
   "id": "9ed46dfc-097a-4017-ab88-bbb4967a9b6b",
   "metadata": {},
   "outputs": [
    {
     "name": "stdout",
     "output_type": "stream",
     "text": [
      "class 1 function\n",
      "class 1 function\n"
     ]
    }
   ],
   "source": [
    "# 4. Hierarchical Inheritance example\n",
    "class class1:\n",
    "    def class1_func(self):\n",
    "        print(\"class 1 function\")\n",
    "        pass\n",
    "class class6(class1):\n",
    "    def class6_func(self):\n",
    "        print(\"class 6 function\")\n",
    "        pass\n",
    "\n",
    "class class7(class1):\n",
    "    def class7_func(self):\n",
    "        print(\"class 7 function\")\n",
    "        pass\n",
    "\n",
    "class6_obj=class6()\n",
    "class7_obj=class7()\n",
    "class6_obj.class1_func()\n",
    "class7_obj.class1_func()"
   ]
  },
  {
   "cell_type": "code",
   "execution_count": 34,
   "id": "6736bde1-a110-48f4-b55f-e2b42ae919b3",
   "metadata": {},
   "outputs": [
    {
     "name": "stdout",
     "output_type": "stream",
     "text": [
      "class 1 function\n",
      "class 4 function\n"
     ]
    }
   ],
   "source": [
    "# 5. Hybrid Inheritance example\n",
    "class class1:\n",
    "    def class1_func(self):\n",
    "        print(\"class 1 function\")\n",
    "        pass\n",
    "\n",
    "class class2():\n",
    "    def class2_func(self):\n",
    "        print(\"class 2 function\")\n",
    "        pass\n",
    "class class3(class1, class2):\n",
    "    def class_func(self):\n",
    "        print (\"class 3 function\")\n",
    "        pass\n",
    "class class4(class1):\n",
    "    def class4_func(self):\n",
    "        print (\"class 4 function\")\n",
    "        pass\n",
    "class class5(class4):\n",
    "    def class5_func(self):\n",
    "        print (\"class 5 function\")\n",
    "        pass\n",
    "class class6(class4):\n",
    "    def class6_func(self):\n",
    "        print (\"Class 6 function\")\n",
    "        pass\n",
    "\n",
    "class6_obj=class6()\n",
    "class6_obj.class1_func()\n",
    "class6_obj.class4_func()"
   ]
  },
  {
   "cell_type": "code",
   "execution_count": null,
   "id": "f3c4a6a7-6322-4a83-9102-a98cbb3d3cd5",
   "metadata": {},
   "outputs": [],
   "source": []
  }
 ],
 "metadata": {
  "kernelspec": {
   "display_name": "Python 3 (ipykernel)",
   "language": "python",
   "name": "python3"
  },
  "language_info": {
   "codemirror_mode": {
    "name": "ipython",
    "version": 3
   },
   "file_extension": ".py",
   "mimetype": "text/x-python",
   "name": "python",
   "nbconvert_exporter": "python",
   "pygments_lexer": "ipython3",
   "version": "3.10.8"
  }
 },
 "nbformat": 4,
 "nbformat_minor": 5
}
