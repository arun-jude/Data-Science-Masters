{
 "cells": [
  {
   "cell_type": "code",
   "execution_count": 4,
   "id": "144fcc47-3bbf-4faf-8111-b59e0c9b706b",
   "metadata": {},
   "outputs": [
    {
     "data": {
      "text/plain": [
       "' 2nd type of Comment'"
      ]
     },
     "execution_count": 4,
     "metadata": {},
     "output_type": "execute_result"
    }
   ],
   "source": [
    "# Question 1\n",
    "# Two types of comments. This is a single line comment\n",
    "''' 2nd type of Comment'''"
   ]
  },
  {
   "cell_type": "code",
   "execution_count": 12,
   "id": "15ae91ee-6136-4f39-88c3-c5a97befc1e0",
   "metadata": {},
   "outputs": [],
   "source": [
    "# Question 2. Variables are used to store data of different data types\n",
    "#declaration of varibles\n",
    "a=3\n",
    "b=2.0\n",
    "c='3'\n",
    "d=0+1j\n"
   ]
  },
  {
   "cell_type": "code",
   "execution_count": 13,
   "id": "8a85571b-2ced-44f6-95d9-8fcebc8b4d5d",
   "metadata": {},
   "outputs": [
    {
     "name": "stdout",
     "output_type": "stream",
     "text": [
      "2\n",
      "3.0\n",
      "3\n"
     ]
    }
   ],
   "source": [
    "#Question 3\n",
    "e=int(b)\n",
    "f=float(a)\n",
    "g=int(c)\n",
    "print(e)\n",
    "print(f)\n",
    "print(g)"
   ]
  },
  {
   "cell_type": "code",
   "execution_count": 14,
   "id": "4e1323ca-7a00-499d-8dc1-5d822fdc60b8",
   "metadata": {},
   "outputs": [],
   "source": [
    "# Question 4 - \n",
    "#1 run cmd in search toolbar\n",
    "# 2 type python on command prompt\n",
    "# 3 type python script_name.py / script_name.ipynb"
   ]
  },
  {
   "cell_type": "code",
   "execution_count": 15,
   "id": "9e11cc39-2101-4ed1-85cd-85b43c5ae9f9",
   "metadata": {},
   "outputs": [
    {
     "name": "stdout",
     "output_type": "stream",
     "text": [
      "[1, 2, 3, 4, 5]\n",
      "[2, 3]\n"
     ]
    }
   ],
   "source": [
    "# Question 5\n",
    "my_list=[1,2,3,4,5]\n",
    "sub_list=[]\n",
    "\n",
    "for i in my_list:\n",
    "    if i==2 or i==3:\n",
    "        sub_list.append(i)\n",
    "\n",
    "print(my_list)\n",
    "print(sub_list)"
   ]
  },
  {
   "cell_type": "code",
   "execution_count": 17,
   "id": "c28d99ba-842c-4d8b-bb0a-2c587df2f44c",
   "metadata": {},
   "outputs": [
    {
     "name": "stdout",
     "output_type": "stream",
     "text": [
      "<class 'complex'>\n"
     ]
    }
   ],
   "source": [
    "#Question 6. Complex number is represented as a real number and an imaginary number with the suffix j.\n",
    "# example\n",
    "a=1+9j\n",
    "print(type(a))"
   ]
  },
  {
   "cell_type": "code",
   "execution_count": 18,
   "id": "ea287411-a845-4a6d-85c7-580a7854667d",
   "metadata": {},
   "outputs": [
    {
     "data": {
      "text/plain": [
       "25"
      ]
     },
     "execution_count": 18,
     "metadata": {},
     "output_type": "execute_result"
    }
   ],
   "source": [
    "# Question 7\n",
    "age=25\n",
    "age"
   ]
  },
  {
   "cell_type": "code",
   "execution_count": 19,
   "id": "cbd482d4-7136-4d60-a93e-bc418fd78f70",
   "metadata": {},
   "outputs": [
    {
     "name": "stdout",
     "output_type": "stream",
     "text": [
      "<class 'float'>\n"
     ]
    }
   ],
   "source": [
    "# Question 8\n",
    "price=9.99\n",
    "print(type(price))"
   ]
  },
  {
   "cell_type": "code",
   "execution_count": 20,
   "id": "d8f80cf6-5410-415f-ac29-1422418ba95a",
   "metadata": {},
   "outputs": [
    {
     "name": "stdout",
     "output_type": "stream",
     "text": [
      "Arun Jude Amalaraj\n"
     ]
    }
   ],
   "source": [
    "#Question 9\n",
    "name='Arun Jude Amalaraj'\n",
    "print(name)"
   ]
  },
  {
   "cell_type": "code",
   "execution_count": 29,
   "id": "aa485490-2613-4c70-8043-7ec2b9e8bb49",
   "metadata": {},
   "outputs": [
    {
     "name": "stdout",
     "output_type": "stream",
     "text": [
      "World\n"
     ]
    },
    {
     "data": {
      "text/plain": [
       "'World'"
      ]
     },
     "execution_count": 29,
     "metadata": {},
     "output_type": "execute_result"
    }
   ],
   "source": [
    "#Question 10\n",
    "str1=\"Hello, World\"\n",
    "l2 =str1.split(\",\")\n",
    "print(l2[1].strip())\n",
    "t1=str1.rpartition(\",\")\n",
    "t1[2].strip()"
   ]
  },
  {
   "cell_type": "code",
   "execution_count": 31,
   "id": "d577dbe4-cc2d-460b-beb8-b7f9faedd38d",
   "metadata": {},
   "outputs": [
    {
     "name": "stdout",
     "output_type": "stream",
     "text": [
      "<class 'bool'>\n"
     ]
    },
    {
     "data": {
      "text/plain": [
       "True"
      ]
     },
     "execution_count": 31,
     "metadata": {},
     "output_type": "execute_result"
    }
   ],
   "source": [
    "# Question 11\n",
    "is_student=True\n",
    "print(type(is_student))\n",
    "is_student"
   ]
  },
  {
   "cell_type": "code",
   "execution_count": null,
   "id": "eabb1487-a067-4c5e-8bb1-4f1fdc7ce240",
   "metadata": {},
   "outputs": [],
   "source": []
  }
 ],
 "metadata": {
  "kernelspec": {
   "display_name": "Python 3 (ipykernel)",
   "language": "python",
   "name": "python3"
  },
  "language_info": {
   "codemirror_mode": {
    "name": "ipython",
    "version": 3
   },
   "file_extension": ".py",
   "mimetype": "text/x-python",
   "name": "python",
   "nbconvert_exporter": "python",
   "pygments_lexer": "ipython3",
   "version": "3.10.8"
  }
 },
 "nbformat": 4,
 "nbformat_minor": 5
}
