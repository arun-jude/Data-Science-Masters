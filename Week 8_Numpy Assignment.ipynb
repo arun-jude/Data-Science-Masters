{
 "cells": [
  {
   "cell_type": "code",
   "execution_count": 8,
   "id": "342aae14-3e93-4480-94ea-3ae4f0fcb53c",
   "metadata": {},
   "outputs": [
    {
     "name": "stdout",
     "output_type": "stream",
     "text": [
      "List_ variable data type is: \n",
      "<class 'list'> \n",
      "\n",
      "array_list variable data type is: \n",
      "<class 'numpy.ndarray'>\n"
     ]
    }
   ],
   "source": [
    "# Question 1\n",
    "\n",
    "# Answer 1\n",
    "\n",
    "import numpy as np\n",
    "list_ = ['1' , '2' , '3' , '4' , '5']\n",
    "array_list = np.array(object = list_)\n",
    "# there is a difference between the data type of variables list_ and array_list.\n",
    "# variable list_ is a list data type whereas array_list is a numpy n-dimensional array data type\n",
    "\n",
    "print(\"List_ variable data type is: \")\n",
    "print(type(list_),\"\\r\\n\")\n",
    "print(\"array_list variable data type is: \")\n",
    "print(type(array_list))\n"
   ]
  },
  {
   "cell_type": "code",
   "execution_count": 15,
   "id": "59393296-120b-4b78-83fe-7b8ce0d656fb",
   "metadata": {},
   "outputs": [
    {
     "name": "stdout",
     "output_type": "stream",
     "text": [
      "Value in list_:  1 \n",
      " Data Type:  <class 'str'> \n",
      "Value in list_:  2 \n",
      " Data Type:  <class 'str'> \n",
      "Value in list_:  3 \n",
      " Data Type:  <class 'str'> \n",
      "Value in list_:  4 \n",
      " Data Type:  <class 'str'> \n",
      "Value in list_:  5 \n",
      " Data Type:  <class 'str'> \n",
      "\n",
      "\n",
      "Value in array_list:  1 \n",
      " Data Type:  <class 'numpy.str_'> \n",
      "Value in array_list:  2 \n",
      " Data Type:  <class 'numpy.str_'> \n",
      "Value in array_list:  3 \n",
      " Data Type:  <class 'numpy.str_'> \n",
      "Value in array_list:  4 \n",
      " Data Type:  <class 'numpy.str_'> \n",
      "Value in array_list:  5 \n",
      " Data Type:  <class 'numpy.str_'> \n"
     ]
    }
   ],
   "source": [
    "# Question 2\n",
    "\n",
    "# Answer 2\n",
    "\n",
    "for i in list_:\n",
    "    print(\"Value in list_: \",i,\"\\n Data Type: \",type(i),\"\\r\")\n",
    "    \n",
    "print(\"\\r\\n\")\n",
    "    \n",
    "for i in array_list:\n",
    "    print(\"Value in array_list: \",i,\"\\n Data Type: \",type(i),\"\\r\")"
   ]
  },
  {
   "cell_type": "code",
   "execution_count": 19,
   "id": "695cee1b-5343-4244-97ac-6e64a440e177",
   "metadata": {},
   "outputs": [
    {
     "name": "stdout",
     "output_type": "stream",
     "text": [
      "Value in list_:  1 \n",
      " Data Type:  <class 'str'> \n",
      "Value in list_:  2 \n",
      " Data Type:  <class 'str'> \n",
      "Value in list_:  3 \n",
      " Data Type:  <class 'str'> \n",
      "Value in list_:  4 \n",
      " Data Type:  <class 'str'> \n",
      "Value in list_:  5 \n",
      " Data Type:  <class 'str'> \n",
      "\n",
      "\n",
      "Value in array_list:  1 \n",
      " Data Type:  <class 'numpy.int64'> \n",
      "Value in array_list:  2 \n",
      " Data Type:  <class 'numpy.int64'> \n",
      "Value in array_list:  3 \n",
      " Data Type:  <class 'numpy.int64'> \n",
      "Value in array_list:  4 \n",
      " Data Type:  <class 'numpy.int64'> \n",
      "Value in array_list:  5 \n",
      " Data Type:  <class 'numpy.int64'> \n"
     ]
    }
   ],
   "source": [
    "# Quesgtion 3\n",
    "\n",
    "# Answer 3 -\n",
    "\n",
    "array_list = np.array(object = list_, dtype = int)\n",
    "\n",
    "# yes there would be a difference in the data type of the elements present in both the variables, list_ and array_list.\n",
    "# The elemnts inside the list_ variable would be of string data type, whereas the elements inside array_list would be of numpy integer data type \n",
    "\n",
    "for i in list_:\n",
    "    print(\"Value in list_: \",i,\"\\n Data Type: \",type(i),\"\\r\")\n",
    "    \n",
    "print(\"\\r\\n\")\n",
    "\n",
    "\n",
    "for i in array_list:\n",
    "    print(\"Value in array_list: \",i,\"\\n Data Type: \",type(i),\"\\r\")"
   ]
  },
  {
   "cell_type": "code",
   "execution_count": 34,
   "id": "369e48e0-1c9e-4805-baa4-0369d030dee1",
   "metadata": {},
   "outputs": [
    {
     "name": "stdout",
     "output_type": "stream",
     "text": [
      "num_array is: \n",
      " [[1 2 3]\n",
      " [4 5 6]] \n",
      "\n",
      "Shape of the num_array is:  (2, 3) \n",
      "\n",
      "Size of num_array is:  6\n"
     ]
    }
   ],
   "source": [
    "# Question 4\n",
    "\n",
    "# Answer 4\n",
    "\n",
    "import numpy as np\n",
    "num_list = [ [ 1 , 2 , 3 ] , [ 4 , 5 , 6 ] ]\n",
    "num_array = np.array(object = num_list)\n",
    "\n",
    "print(\"num_array is: \\n\",num_array,\"\\n\")\n",
    "print(\"Shape of the num_array is: \",num_array.shape,\"\\r\\n\")\n",
    "\n",
    "print(\"Size of num_array is: \",num_array.size)"
   ]
  },
  {
   "cell_type": "code",
   "execution_count": 29,
   "id": "40d3bb3e-75a1-47a9-a2d0-930174c4d59b",
   "metadata": {},
   "outputs": [
    {
     "data": {
      "text/plain": [
       "array([[0., 0., 0.],\n",
       "       [0., 0., 0.],\n",
       "       [0., 0., 0.]])"
      ]
     },
     "execution_count": 29,
     "metadata": {},
     "output_type": "execute_result"
    }
   ],
   "source": [
    "# Question 5\n",
    "\n",
    "# Answer 5 - code to create numpy array of 3*3 matrix containing zeros only\n",
    "\n",
    "arr=np.zeros((3,3))\n",
    "arr"
   ]
  },
  {
   "cell_type": "code",
   "execution_count": 31,
   "id": "295fdde7-edca-4cd0-9143-db47460e2d59",
   "metadata": {},
   "outputs": [
    {
     "data": {
      "text/plain": [
       "array([[1., 0., 0., 0., 0.],\n",
       "       [0., 1., 0., 0., 0.],\n",
       "       [0., 0., 1., 0., 0.],\n",
       "       [0., 0., 0., 1., 0.],\n",
       "       [0., 0., 0., 0., 1.]])"
      ]
     },
     "execution_count": 31,
     "metadata": {},
     "output_type": "execute_result"
    }
   ],
   "source": [
    "# Question 6\n",
    "\n",
    "# Answer 6 - identity matrix of shape (5,5) using numpy function\n",
    "\n",
    "arr1=np.eye(5,5)\n",
    "arr1"
   ]
  },
  {
   "cell_type": "code",
   "execution_count": null,
   "id": "b55d4626-ebea-4f21-b4af-fef3f9e53900",
   "metadata": {},
   "outputs": [],
   "source": []
  }
 ],
 "metadata": {
  "kernelspec": {
   "display_name": "Python 3 (ipykernel)",
   "language": "python",
   "name": "python3"
  },
  "language_info": {
   "codemirror_mode": {
    "name": "ipython",
    "version": 3
   },
   "file_extension": ".py",
   "mimetype": "text/x-python",
   "name": "python",
   "nbconvert_exporter": "python",
   "pygments_lexer": "ipython3",
   "version": "3.10.8"
  }
 },
 "nbformat": 4,
 "nbformat_minor": 5
}
