{
 "cells": [
  {
   "cell_type": "code",
   "execution_count": 1,
   "id": "ef9e7834-e7b1-46fd-951a-7aa5a0ab4d4b",
   "metadata": {},
   "outputs": [],
   "source": [
    "#Question 1\n",
    "# Multithreading in Python\n",
    "# Multithreading is defined as the ability of a processor to execute multiple threads concurrently.\n",
    "#In a simple, single-core CPU, it is achieved using frequent switching between threads.\n",
    "# This is termed context switching.\n",
    "# In context switching, the state of a thread is saved and the state of another thread is loaded whenever any interrupt (due to I/O or manually set) takes place.\n",
    "# Context switching takes place so frequently that all the threads appear to be running parallelly (this is termed multitasking).\n",
    "\n",
    "# The \"threading\" module is used to handle threads in Python"
   ]
  },
  {
   "cell_type": "code",
   "execution_count": 2,
   "id": "f2098326-1da7-4c41-9a7b-65f6743447ac",
   "metadata": {},
   "outputs": [],
   "source": [
    "# Question 2\n",
    "# For performing multithreading in Python threading module is used.The threading module provides several functions/methods to implement multithreading easily in python.\n",
    "# threading module is used for creating, controlling and managing threads in python.\n",
    "\n",
    "# use of threading functions: -\n",
    "\n",
    "# 1. threading.activeCount() − Returns the number of thread objects that are active.\n",
    "\n",
    "# 2. threading.currentThread() − Returns the number of thread objects in the caller's thread control.\n",
    "\n",
    "# 3. threading.enumerate() − Returns a list of all thread objects that are currently active."
   ]
  },
  {
   "cell_type": "code",
   "execution_count": 3,
   "id": "9c6027b7-15a8-4c45-8331-70eadff69b99",
   "metadata": {},
   "outputs": [],
   "source": [
    "# Question 3\n",
    "\n",
    "# explanation of the following functions : -\n",
    "\n",
    "# run() − The run() method is the entry point for a thread.\n",
    "\n",
    "# start() − The start() method starts a thread by calling the run method.\n",
    "\n",
    "# join() − The join() waits for threads to terminate.\n",
    "\n",
    "# isAlive() − The isAlive() method checks whether a thread is still executing."
   ]
  },
  {
   "cell_type": "code",
   "execution_count": 16,
   "id": "b7c445aa-b576-4b59-bd74-c6b45715d9bb",
   "metadata": {},
   "outputs": [
    {
     "name": "stdout",
     "output_type": "stream",
     "text": [
      "Square of number:  0 is:  0 \n",
      "Square of number:  1 is:  1 \n",
      "Square of number:  2 is:  4 \n",
      "Square of number:  3 is:  9 \n",
      "Square of number:  4 is:  16 \n",
      "Square of number:  5 is:  25 \n",
      "Square of number:  6 is:  36 \n",
      "Square of number:  7 is:  49 \n",
      "Square of number:  8 is:  64 \n",
      "Square of number:  9 is:  81 \n",
      "Cube of number:  0 is:  0 \n",
      "Cube of number:  1 is:  1 \n",
      "Cube of number:  2 is:  8 \n",
      "Cube of number:  3 is:  27 \n",
      "Cube of number:  4 is:  64 \n",
      "Cube of number:  5 is:  125 \n",
      "Cube of number:  6 is:  216 \n",
      "Cube of number:  7 is:  343 \n",
      "Cube of number:  8 is:  512 \n",
      "Cube of number:  9 is:  729 \n",
      "Multithreading of Thread 1 and Thread 2 completed\n"
     ]
    }
   ],
   "source": [
    "# Question 4\n",
    "\n",
    "import threading\n",
    "import time\n",
    "\n",
    "def square_func(num):\n",
    "    \n",
    "    print(\"Square of number: \", num, \"is: \", num**2, \"\\r\")\n",
    "    time.sleep(2)\n",
    "\n",
    "def cube_func(num):\n",
    "    \n",
    "    print(\"Cube of number: \", num, \"is: \", num**3, \"\\r\")\n",
    "    time.sleep(3)\n",
    "\n",
    "# creating thread1 and thread 2\n",
    "\n",
    "thread1=[threading.Thread(target=square_func, args=(i,)) for i in range(10)]\n",
    "thread2=[threading.Thread(target=cube_func, args=(i,)) for i in range(10)]\n",
    "\n",
    "#start thread 1 for square func()\n",
    "for t1 in thread1:\n",
    "    t1.start()\n",
    "\n",
    "# start thread 2 for cube func()\n",
    "\n",
    "for t2 in thread2:\n",
    "    t2.start()\n",
    "\n",
    "# wait for thread 1 to terminate\n",
    "t1.join()\n",
    "\n",
    "# wait for thread 2 to terminate\n",
    "t2.join()\n",
    "\n",
    "print(\"Multithreading of Thread 1 and Thread 2 completed\")"
   ]
  },
  {
   "cell_type": "code",
   "execution_count": 17,
   "id": "5abb50ec-f7f7-43b1-b9c5-e2b61e53e03b",
   "metadata": {},
   "outputs": [],
   "source": [
    "# Question 5\n",
    "# Advantages of Multithreading: -\n",
    "\n",
    "# 1. Python multithreading enables efficient utilization of the resources as the threads share the data space and memory.\n",
    "# 2. Multithreading in Python allows the concurrent and parallel occurrence of various tasks.\n",
    "# 3. It causes a reduction in time consumption or response time, thereby increasing the performance.\n",
    "\n",
    "# Disadvantages of Multithreading: -\n",
    "\n",
    "# 1. Complexity: Multithreading adds complexity to the program, making it more difficult to design, implement, and debug.\n",
    "#    Developers need to be aware of synchronization, deadlocks, race conditions, and other concurrency-related issues.\n",
    "\n",
    "# 2. Synchronization overhead: To avoid data corruption and maintain consistency, developers must synchronize access to shared resources,\n",
    "#    which can result in additional overhead and reduced performance.\n",
    "\n",
    "# 3. Context switching: Context switching between threads consumes CPU time and resources, which can lead to performance degradation if not managed efficiently.\n",
    "\n",
    "# 4. Hard to predict behavior: Due to the concurrent nature of multithreading, the behavior of the program can be hard to predict and reproduce,\n",
    "#    especially when it comes to debugging.\n",
    "\n",
    "# 5. Limited by hardware: The performance benefits of multithreading are limited by the number of available cores or processors in the system.\n",
    "#    In some cases, excessive use of threads can lead to performance degradation instead of improvement."
   ]
  },
  {
   "cell_type": "code",
   "execution_count": 18,
   "id": "5fd4d947-94ac-45a8-b75c-7ed18d61432c",
   "metadata": {},
   "outputs": [],
   "source": [
    "# Question 6\n",
    "# deadlocks and race conditions in multithreading\n",
    "# 1. A race condition may be defined as the occurring of a condition when two or more threads can access shared data and then try to change its value at the same time.\n",
    "#    Due to this, the values of variables may be unpredictable and vary depending on the timings of context switches of the processes.\n",
    "\n",
    "# 2. A deadlock is a concurrency failure mode where a thread or threads wait for a condition that never occurs.\n",
    "#    The result is that the deadlock threads are unable to progress and the program is stuck or frozen and must be terminated forcefully."
   ]
  },
  {
   "cell_type": "code",
   "execution_count": null,
   "id": "eb566687-8cc8-4403-bb5f-78f7c0656ae5",
   "metadata": {},
   "outputs": [],
   "source": []
  }
 ],
 "metadata": {
  "kernelspec": {
   "display_name": "Python 3 (ipykernel)",
   "language": "python",
   "name": "python3"
  },
  "language_info": {
   "codemirror_mode": {
    "name": "ipython",
    "version": 3
   },
   "file_extension": ".py",
   "mimetype": "text/x-python",
   "name": "python",
   "nbconvert_exporter": "python",
   "pygments_lexer": "ipython3",
   "version": "3.10.8"
  }
 },
 "nbformat": 4,
 "nbformat_minor": 5
}
