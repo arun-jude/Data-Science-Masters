{
 "cells": [
  {
   "cell_type": "code",
   "execution_count": 1,
   "id": "c41a6c49-0d87-4bac-bef7-071f5762b0cc",
   "metadata": {},
   "outputs": [],
   "source": [
    "# Question 1\n",
    "# Multiprocessing in Python\n",
    "# Multiprocessing refers to the ability of a system to support more than one processor at the same time.\n",
    "# Applications in a multiprocessing system are broken to smaller routines that run independently.\n",
    "# The operating system allocates these threads to the processors improving performance of the system.\n",
    "\n",
    "# usefulness of mutlithreading: -\n",
    "# Performing multiple operations for a single processor becomes challenging.\n",
    "# As the number of processes keeps increasing, the processor will have to halt the current process and move to the next, to keep them going.\n",
    "# Thus, it will have to interrupt each task, thereby hampering the performance.\n",
    "# In multiprocessing, the system can divide and assign tasks to different processors.\n",
    "# A multiprocessing system can be represented as:\n",
    "\n",
    "# 1. A system with more than a single central processor\n",
    "# 2. A multi-core processor, i.e., a single computing unit with multiple independent core processing units"
   ]
  },
  {
   "cell_type": "code",
   "execution_count": 2,
   "id": "22c813ac-dfbe-41ef-bb06-bb98efeb5142",
   "metadata": {},
   "outputs": [],
   "source": [
    "# Question 2\n",
    "# Differences between Multiprocessing and Multithreading: -\n",
    "\n",
    "# 1. Concept - Multiprocessing : Multiple processors/ CPUs are added to the system to increase the computing power of the system.\n",
    "#            Multithreading : Multiple threads are created of a process to be executed in a parallel fashion to increase the throughput of the system.\n",
    "\n",
    "# 2. Parallel Action - Multiprocessing : Multiple processes are executed in a parallel fashion.\n",
    "#                      Multithreading : Multiple threads are executed in a parallel fashion.\n",
    "\n",
    "# 3. Categories - Multiprocessing : Multiprocessing can be classified into symmetric and asymmetric multiprocessing.\n",
    "#                 Multithreading : No such classification present for multithreading.\n",
    "\n",
    "# 4. Time - Multiprocessing : Process creation is time-consuming.\n",
    "#           Multithreading : Thread creation is easy and is time savvy.\n",
    "\n",
    "# 5. Execution - Multiprocessing : In multiprocessing, many processes are executed simultaneously.\n",
    "#               Multithreading : In multithreading, many threads are executed simultaneously.\n",
    "\n",
    "# 6. Address space - Multiprocessing : In multiprocessing, a separate address space is created for each process.\n",
    "#                    Multithreading : In multithreading, a common address space is used for all the threads.\n",
    "\n",
    "# 7. Resources - Multiprocessing : Multiprocessing requires a significant amount of time and large number of resources.\t\n",
    "#                Multithreading : Multithreading requires less time and few resources to create."
   ]
  },
  {
   "cell_type": "code",
   "execution_count": 10,
   "id": "86d6c1a2-ca89-4bd2-adfd-f6095eedfd4b",
   "metadata": {},
   "outputs": [
    {
     "name": "stdout",
     "output_type": "stream",
     "text": [
      "Main production code\n",
      "This is the Multiprocessing program\n"
     ]
    }
   ],
   "source": [
    "# Question 3\n",
    "# python code to create a process using the multiprocessing module.\n",
    "\n",
    "import multiprocessing\n",
    "\n",
    "def test():\n",
    "    print (\"This is the Multiprocessing program\")\n",
    "\n",
    "if __name__==\"__main__\":\n",
    "    m = multiprocessing.Process(target=test)\n",
    "    print (\"Main production code\")\n",
    "    m.start()\n",
    "    m.join()"
   ]
  },
  {
   "cell_type": "code",
   "execution_count": 34,
   "id": "b78bc3d6-5fc6-4766-9580-4b0cf7abe5f1",
   "metadata": {},
   "outputs": [
    {
     "name": "stdout",
     "output_type": "stream",
     "text": [
      "[9, 16, 25, 36, 49, 64, 81, 100, 121, 144, 169, 196, 225, 256, 289, 324, 361]\n"
     ]
    }
   ],
   "source": [
    "# Question 4\n",
    "# multiprocessing pool in python\n",
    "# Python multiprocessing Pool can be used for parallel execution of a function across multiple input values, distributing the input data across processes (data parallelism).\n",
    "# multiprocessing creates multiple Python processes in the background.\n",
    "# multiprocessing spreads out your computations across multiple CPU cores so that they all happen in parallel without you needing to do anything.\n",
    "# example\n",
    "import multiprocessing\n",
    "\n",
    "def square(num):\n",
    "    return num**2\n",
    "\n",
    "if __name__ == '__main__':\n",
    "    with multiprocessing.Pool(processes=5) as pool :\n",
    "        out = pool.map(square , [i for i in range(3,20)])\n",
    "        print(out)"
   ]
  },
  {
   "cell_type": "code",
   "execution_count": 36,
   "id": "487f78d4-4cc2-45ef-9f28-665a8ada6d3f",
   "metadata": {},
   "outputs": [
    {
     "name": "stdout",
     "output_type": "stream",
     "text": [
      "[100, 121, 144, 169, 196, 225, 256, 289, 324, 361]\n"
     ]
    }
   ],
   "source": [
    "# Question 5\n",
    "# creation of a pool of worker processes in python using the multiprocessing module\n",
    "\n",
    "import multiprocessing\n",
    "\n",
    "def square(num):\n",
    "    return num**2\n",
    "\n",
    "if __name__ == '__main__':\n",
    "    with multiprocessing.Pool(processes=5) as pool :\n",
    "        out = pool.map(square , [i for i in range(10,20)])\n",
    "        print(out)"
   ]
  },
  {
   "cell_type": "code",
   "execution_count": 42,
   "id": "c303e5a4-d0cb-426f-8b15-2961733e733b",
   "metadata": {},
   "outputs": [
    {
     "name": "stdout",
     "output_type": "stream",
     "text": [
      "[1, 2, 3, 4, 5, 6, 7, 8, 9, 10, 11, 12, 13, 14, 15, 16, 17, 18, 19]\n"
     ]
    }
   ],
   "source": [
    "# Question 6\n",
    "# python program to create 4 processes, each process should print a different number using the multiprocessing module in python.\n",
    "import multiprocessing\n",
    "\n",
    "def actual_num(num):\n",
    "    return num\n",
    "\n",
    "if __name__ == '__main__':\n",
    "    with multiprocessing.Pool(processes=4) as pool :\n",
    "        out = pool.map(actual_num , [i for i in range(1,20)])\n",
    "        print(out)"
   ]
  },
  {
   "cell_type": "code",
   "execution_count": null,
   "id": "c69f145f-c745-47e1-941b-4826716aa7f0",
   "metadata": {},
   "outputs": [],
   "source": []
  }
 ],
 "metadata": {
  "kernelspec": {
   "display_name": "Python 3 (ipykernel)",
   "language": "python",
   "name": "python3"
  },
  "language_info": {
   "codemirror_mode": {
    "name": "ipython",
    "version": 3
   },
   "file_extension": ".py",
   "mimetype": "text/x-python",
   "name": "python",
   "nbconvert_exporter": "python",
   "pygments_lexer": "ipython3",
   "version": "3.10.8"
  }
 },
 "nbformat": 4,
 "nbformat_minor": 5
}
