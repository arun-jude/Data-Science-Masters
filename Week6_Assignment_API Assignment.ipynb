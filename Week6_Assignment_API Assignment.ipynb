{
 "cells": [
  {
   "cell_type": "code",
   "execution_count": 1,
   "id": "e03b145a-f64a-43e4-8aac-4860b60538aa",
   "metadata": {},
   "outputs": [],
   "source": [
    "# Question 1\n",
    "\n",
    "# Answer 1 - APIs are mechanisms that enable two software components to communicate with each other using a set of definitions and protocols.\n",
    "# For example, the weather bureau's software system contains daily weather data.\n",
    "# The weather app on your phone “talks” to this system via APIs and shows you daily weather updates on your phone."
   ]
  },
  {
   "cell_type": "code",
   "execution_count": 2,
   "id": "c54b8f17-fc30-4fcc-82e9-cab3af3b5875",
   "metadata": {},
   "outputs": [],
   "source": [
    "# Question 2\n",
    "\n",
    "# Answer 2 - Advantages and disadvantages of using API: -\n",
    "\n",
    "# Advantages:\n",
    "\n",
    "# 1. Increased Interoperability: API solutions enable different software systems to communicate with each other, regardless of their programming language or platform.\n",
    "#    This enhances the interoperability between systems, allowing for the exchange of data and functionality.\n",
    "# 2. Improved Efficiency: API driven infrastructures enable developers to reuse code and functionality from existing software systems, \n",
    "#    saving time and reducing the amount of code that needs to be written from scratch.\n",
    "# 3. Better User Experience: APIs can enable third-party developers to create applications that integrate with existing software systems, \n",
    "#    providing a better user experience and increased functionality.\n",
    "# 4. Increased Flexibility: APIs provide developers with greater flexibility, enabling them to choose the best programming languages and frameworks for their needs.\n",
    "# 5. New Revenue Streams: APIs can enable companies to create new revenue streams by providing third-party developers with access to their software systems.\n",
    "\n",
    "# Disadvantages:\n",
    "\n",
    "# 1. Security Concerns: API infrastructures can be vulnerable to security breaches, such as SQL injection attacks and cross-site scripting (XSS) attacks,\n",
    "#    making it crucial to implement security measures to protect against these threats.\n",
    "# 2. Complexity: APIs can be complex, requiring a significant amount of development effort to implement and maintain.\n",
    "# 3. Compatibility Issues: APIs can have compatibility issues between different versions of the same software system or between different systems, \n",
    "#    which can lead to errors and system failures.\n",
    "# 4. Dependency on Third-Party Developers: APIs rely on third-party developers to create applications that integrate with the software system. \n",
    "#    This can create dependencies that are outside of the control of the company that owns the software system.\n",
    "# 5. Governance and Management: APIs require proper governance and management to ensure they are being used correctly \n",
    "#    and consistently across different applications and systems."
   ]
  },
  {
   "cell_type": "code",
   "execution_count": 3,
   "id": "9bf0e559-e923-45b3-9e31-782b954632fb",
   "metadata": {},
   "outputs": [],
   "source": [
    "# Question 3\n",
    "\n",
    "# Answer 3 - A Web API is an application programming interface for the Web.\n",
    "# Differentiation between API and Web API: -\n",
    "# An API exactly defines the methods for one software program to interact with the other. \n",
    "# When this action involves sending data over a network, Web API comes into the picture.\n",
    "# An API generally involves calling functions from within a software program.\n",
    "# All Web APIs are APIs but all APIs are not Web APIs\n",
    "# APIs use TCP,SMTP & HTTP protocols. However, Web APIs use HTTP protocols"
   ]
  },
  {
   "cell_type": "code",
   "execution_count": 4,
   "id": "2a1a3ff8-4944-477d-ab7f-f2d2f8226386",
   "metadata": {},
   "outputs": [],
   "source": [
    "# Question 4\n",
    "\n",
    "# Answer 4 - REST Architecture - REST stands for Representational State Transfer\n",
    "# REST is a software architectural style that defines the set of rules to be used for creating web services.\n",
    "# Web services which follow the REST architectural style are known as RESTful web services.\n",
    "# It allows requesting systems to access and manipulate web resources by using a uniform and predefined set of rules.\n",
    "# Interaction in REST based systems happen through Internet’s Hypertext Transfer Protocol (HTTP).\n",
    "\n",
    "# A Restful system consists of a:\n",
    "\n",
    "# 1. client who requests for the resources.\n",
    "# 2. server who has the resources.\n",
    "\n",
    "# SOAP Architecture - SOAP stands for Simple Object Access Protocol\n",
    "# SOAP is used for exchanging structured data between nodes. It uses XML format to transfer messages.\n",
    "# SOAP is a light weight data interchange protocol because it is based on XML.\n",
    "# SOAP was designed to be OS and Platform independent.\n",
    "# SOAP based systems uses TCP, SMTP protocols for their interaction\n",
    "# thee client-server communication depends on WSDL (Web Service Description Language)\n",
    "\n",
    "# Shortcomings of SOAP: -\n",
    "\n",
    "# 1. API calls cannot be cached.\n",
    "# 2. SOAP can only transfer messages as XML files, your SOAP API will be less performant, as XML is a verbose format compared to JSON.\n",
    "#    API calls made to your server will need more bandwidth and it will take more time to process the request and transfer the response back to the client.\n",
    "# 3. Requires more bandwidth and computing power.\n",
    "# 4. Poorer performance, more complexity, less flexibility."
   ]
  },
  {
   "cell_type": "code",
   "execution_count": 5,
   "id": "deae3d47-c4a2-4336-bdb7-f0c85c2a93f4",
   "metadata": {},
   "outputs": [],
   "source": [
    "# Question 5\n",
    "\n",
    "# Answer 5 - Differentiate between REST and SOAP: -\n",
    "\n",
    "# 1. Design - SOAP - Standardized protocol with pre-defined rules to follow.\t\n",
    "#             REST - Architectural style with loose guidelines and recommendations.\n",
    "\n",
    "# 2. Approach - SOAP - Function-driven (data available as services, e.g.: “getUser”)\n",
    "#               REST - Data-driven (data available as resources, e.g. “user”).\n",
    "\n",
    "# 3. Statefulness - SOAP - Stateless by default, but it’s possible to make a SOAP API stateful.\t\n",
    "#                   REST - Stateless (no server-side sessions).\n",
    "\n",
    "# 4. Caching - SOAP - API calls cannot be cached.\n",
    "#              REST - API calls can be cached.\n",
    "\n",
    "# 5. Security - SOAP - WS-Security with SSL support. Built-in ACID compliance.\t\n",
    "#               REST - Supports HTTPS and SSL.\n",
    "\n",
    "# 6. Performance - SOAP - Requires more bandwidth and computing power.\t\n",
    "#                  REST - Requires fewer resources.\n",
    "\n",
    "# 7. Message Format - SOAP - Only XML.\n",
    "#                     REST - Plain text, HTML, XML, JSON, YAML, and others.\n",
    "\n",
    "# 8. Transfer protocol(s) - SOAP - HTTP, SMTP, UDP, and others.\n",
    "#                           REST - Only HTTP\n",
    "\n",
    "# Advantages - SOAP - High security, standardized, extensibility.\n",
    "#              REST - Scalability, better performance, browser-friendliness, flexibility.\n",
    "\n",
    "# Disadvantages - SOAP - Poorer performance, more complexity, less flexibility.\t\n",
    "#                 REST - Less security, not suitable for distributed environments."
   ]
  },
  {
   "cell_type": "code",
   "execution_count": null,
   "id": "5e9e35e7-9be1-42c8-bf24-8ec5322fd333",
   "metadata": {},
   "outputs": [],
   "source": []
  }
 ],
 "metadata": {
  "kernelspec": {
   "display_name": "Python 3 (ipykernel)",
   "language": "python",
   "name": "python3"
  },
  "language_info": {
   "codemirror_mode": {
    "name": "ipython",
    "version": 3
   },
   "file_extension": ".py",
   "mimetype": "text/x-python",
   "name": "python",
   "nbconvert_exporter": "python",
   "pygments_lexer": "ipython3",
   "version": "3.10.8"
  }
 },
 "nbformat": 4,
 "nbformat_minor": 5
}
