{
 "cells": [
  {
   "cell_type": "code",
   "execution_count": 6,
   "id": "141279cd-ded3-4b6c-bd02-fec3fafca163",
   "metadata": {},
   "outputs": [
    {
     "data": {
      "text/html": [
       "<div>\n",
       "<style scoped>\n",
       "    .dataframe tbody tr th:only-of-type {\n",
       "        vertical-align: middle;\n",
       "    }\n",
       "\n",
       "    .dataframe tbody tr th {\n",
       "        vertical-align: top;\n",
       "    }\n",
       "\n",
       "    .dataframe thead th {\n",
       "        text-align: right;\n",
       "    }\n",
       "</style>\n",
       "<table border=\"1\" class=\"dataframe\">\n",
       "  <thead>\n",
       "    <tr style=\"text-align: right;\">\n",
       "      <th></th>\n",
       "      <th>0</th>\n",
       "    </tr>\n",
       "  </thead>\n",
       "  <tbody>\n",
       "    <tr>\n",
       "      <th>0</th>\n",
       "      <td>4</td>\n",
       "    </tr>\n",
       "    <tr>\n",
       "      <th>1</th>\n",
       "      <td>8</td>\n",
       "    </tr>\n",
       "    <tr>\n",
       "      <th>2</th>\n",
       "      <td>15</td>\n",
       "    </tr>\n",
       "    <tr>\n",
       "      <th>3</th>\n",
       "      <td>16</td>\n",
       "    </tr>\n",
       "    <tr>\n",
       "      <th>4</th>\n",
       "      <td>23</td>\n",
       "    </tr>\n",
       "    <tr>\n",
       "      <th>5</th>\n",
       "      <td>42</td>\n",
       "    </tr>\n",
       "  </tbody>\n",
       "</table>\n",
       "</div>"
      ],
      "text/plain": [
       "    0\n",
       "0   4\n",
       "1   8\n",
       "2  15\n",
       "3  16\n",
       "4  23\n",
       "5  42"
      ]
     },
     "metadata": {},
     "output_type": "display_data"
    }
   ],
   "source": [
    "# Question 1\n",
    "\n",
    "# Answer 1 -\n",
    "import pandas as pd\n",
    "\n",
    "data=[4, 8, 15, 16, 23,42]\n",
    "\n",
    "df=pd.DataFrame(data)\n",
    "display(df)"
   ]
  },
  {
   "cell_type": "code",
   "execution_count": 9,
   "id": "371eefe4-5a1d-4dde-86d0-5bbfab225604",
   "metadata": {},
   "outputs": [
    {
     "name": "stdout",
     "output_type": "stream",
     "text": [
      "0    1\n",
      "1    7\n",
      "2    2\n",
      "3    5\n",
      "4    4\n",
      "5    3\n",
      "6    8\n",
      "7    9\n",
      "8    7\n",
      "9    0\n",
      "dtype: int64\n"
     ]
    }
   ],
   "source": [
    "# Question 2\n",
    "\n",
    "# Answer 2 -\n",
    "\n",
    "import pandas as pd\n",
    "\n",
    "a = [1, 7, 2,5,4,3,8,9,7,0]\n",
    "\n",
    "myvar = pd.Series(a)\n",
    "\n",
    "print(myvar)"
   ]
  },
  {
   "cell_type": "code",
   "execution_count": 11,
   "id": "2bc6f1c4-e170-42cf-a8e2-4c5162703a8d",
   "metadata": {},
   "outputs": [
    {
     "data": {
      "text/html": [
       "<div>\n",
       "<style scoped>\n",
       "    .dataframe tbody tr th:only-of-type {\n",
       "        vertical-align: middle;\n",
       "    }\n",
       "\n",
       "    .dataframe tbody tr th {\n",
       "        vertical-align: top;\n",
       "    }\n",
       "\n",
       "    .dataframe thead th {\n",
       "        text-align: right;\n",
       "    }\n",
       "</style>\n",
       "<table border=\"1\" class=\"dataframe\">\n",
       "  <thead>\n",
       "    <tr style=\"text-align: right;\">\n",
       "      <th></th>\n",
       "      <th>Name</th>\n",
       "      <th>Age</th>\n",
       "      <th>Gender</th>\n",
       "    </tr>\n",
       "  </thead>\n",
       "  <tbody>\n",
       "    <tr>\n",
       "      <th>0</th>\n",
       "      <td>Alice</td>\n",
       "      <td>25</td>\n",
       "      <td>Female</td>\n",
       "    </tr>\n",
       "    <tr>\n",
       "      <th>1</th>\n",
       "      <td>Bob</td>\n",
       "      <td>30</td>\n",
       "      <td>Male</td>\n",
       "    </tr>\n",
       "    <tr>\n",
       "      <th>2</th>\n",
       "      <td>Claire</td>\n",
       "      <td>27</td>\n",
       "      <td>Female</td>\n",
       "    </tr>\n",
       "  </tbody>\n",
       "</table>\n",
       "</div>"
      ],
      "text/plain": [
       "     Name  Age  Gender\n",
       "0   Alice   25  Female\n",
       "1     Bob   30    Male\n",
       "2  Claire   27  Female"
      ]
     },
     "metadata": {},
     "output_type": "display_data"
    }
   ],
   "source": [
    "# Question 3\n",
    "\n",
    "# Answer 3 -\n",
    "\n",
    "import pandas as pd\n",
    "\n",
    "dict1={'Name':['Alice','Bob','Claire'],\n",
    "       'Age':[25,30,27], \n",
    "       'Gender':['Female','Male','Female']\n",
    "        }\n",
    "df1=pd.DataFrame(dict1)\n",
    "display(df1)\n"
   ]
  },
  {
   "cell_type": "code",
   "execution_count": 19,
   "id": "37bf9340-47cf-4ad0-8345-3647672b8aa8",
   "metadata": {},
   "outputs": [
    {
     "name": "stdout",
     "output_type": "stream",
     "text": [
      "Data Type of the Full Data Frame is :  <class 'pandas.core.frame.DataFrame'> \n",
      "\n",
      "Data Type of one column Data is :  <class 'pandas.core.series.Series'>\n"
     ]
    }
   ],
   "source": [
    "# Question 4\n",
    "\n",
    "# Answer 4 -\n",
    "# A Pandas DataFrame is a 2 dimensional data structure, like a 2 dimensional array, or a table with rows and columns.\n",
    "\n",
    "# Pandas Series only has one data column, whereas pandas DataFrame has data for multiple columns\n",
    "\n",
    "\n",
    "import pandas as pd\n",
    "\n",
    "df2  = pd.read_csv('services.csv')\n",
    "\n",
    "print(\"Data Type of the Full Data Frame is : \",type(df2),\"\\r\\n\")\n",
    "\n",
    "print(\"Data Type of one column Data is : \",type(df2['location_id']))\n"
   ]
  },
  {
   "cell_type": "code",
   "execution_count": 36,
   "id": "5690c710-2499-4f06-8765-92df451c8896",
   "metadata": {},
   "outputs": [
    {
     "name": "stdout",
     "output_type": "stream",
     "text": [
      "Index(['id', 'location_id', 'program_id', 'accepted_payments',\n",
      "       'alternate_name', 'application_process', 'audience', 'description',\n",
      "       'eligibility', 'email', 'fees', 'funding_sources',\n",
      "       'interpretation_services', 'keywords', 'languages', 'name',\n",
      "       'required_documents', 'service_areas', 'status', 'wait_time', 'website',\n",
      "       'taxonomy_ids'],\n",
      "      dtype='object') \n",
      "\n",
      "length of the data frame is:  23 \n",
      "\n",
      "id                                                                         6\n",
      "location_id                                                                6\n",
      "program_id                                                               NaN\n",
      "accepted_payments                                                        NaN\n",
      "alternate_name                                                           NaN\n",
      "application_process        Walk in or apply by phone for membership appli...\n",
      "audience                                                             Any age\n",
      "description                A multipurpose center offering a wide variety ...\n",
      "eligibility                                                             None\n",
      "email                                                                    NaN\n",
      "fees                       $55 per year membership dues. Classes have fee...\n",
      "funding_sources                              Fees, Fundraising, Grants, Dues\n",
      "interpretation_services                                                  NaN\n",
      "keywords                   ADULT PROTECTION AND CARE SERVICES, In-Home Su...\n",
      "languages                                                                NaN\n",
      "name                                    Little House Recreational Activities\n",
      "required_documents                                                       NaN\n",
      "service_areas                                               San Mateo County\n",
      "status                                                                active\n",
      "wait_time                                                           No wait.\n",
      "website                                                                  NaN\n",
      "taxonomy_ids                                                             NaN\n",
      "Name: 5, dtype: object\n"
     ]
    }
   ],
   "source": [
    "# Question 5\n",
    "\n",
    "# Answer 5 - Common functions used to manipulate data in a Pandas DataFrame: -\n",
    "\n",
    "import pandas as pd\n",
    "\n",
    "df2  = pd.read_csv('services.csv')\n",
    "\n",
    "# 1. columns function\n",
    "\n",
    "print (df2.columns,\"\\r\\n\")\n",
    "\n",
    "# 2. Len function\n",
    "\n",
    "print(\"length of the data frame is: \",len(df2),\"\\r\\n\")\n",
    "\n",
    "# 3. Loc function\n",
    "\n",
    "print(df2.loc[5])"
   ]
  },
  {
   "cell_type": "code",
   "execution_count": 37,
   "id": "20b2fb21-980f-4748-a271-f1243b4be84a",
   "metadata": {},
   "outputs": [],
   "source": [
    "# Question 6\n",
    "\n",
    "# Answer 6 - Pandas DataFrame is mutable in nature out of pandas DataFrame, Series, Panel\n"
   ]
  },
  {
   "cell_type": "code",
   "execution_count": 39,
   "id": "599c852b-9c6e-4cf5-9ec8-130752bc4fca",
   "metadata": {},
   "outputs": [
    {
     "name": "stdout",
     "output_type": "stream",
     "text": [
      "         0      1\n",
      "0  English  22000\n",
      "1    Hindi  25000\n",
      "2    Maths  23000 \n",
      "\n",
      "         0      1     2\n",
      "0  English  22000  1000\n",
      "1    Hindi  25000  2300\n",
      "2    Maths  23000  1000\n"
     ]
    }
   ],
   "source": [
    "# Question 7\n",
    "\n",
    "# Answer 7\n",
    "\n",
    "import pandas as pd\n",
    "\n",
    "# Create pandas Series\n",
    "\n",
    "courses = pd.Series([\"English\",\"Hindi\",\"Maths\"])\n",
    "fees = pd.Series([22000,25000,23000])\n",
    "discount  = pd.Series([1000,2300,1000])\n",
    "\n",
    "# Combine two series.\n",
    "\n",
    "df=pd.concat([courses,fees],axis=1)\n",
    "print(df,\"\\r\\n\")\n",
    "\n",
    "# combine multiple series.\n",
    "\n",
    "df=pd.concat([courses,fees,discount],axis=1)\n",
    "print(df)"
   ]
  },
  {
   "cell_type": "code",
   "execution_count": null,
   "id": "808fcc8d-6eb7-4ac6-9b9b-18a4171a8413",
   "metadata": {},
   "outputs": [],
   "source": []
  }
 ],
 "metadata": {
  "kernelspec": {
   "display_name": "Python 3 (ipykernel)",
   "language": "python",
   "name": "python3"
  },
  "language_info": {
   "codemirror_mode": {
    "name": "ipython",
    "version": 3
   },
   "file_extension": ".py",
   "mimetype": "text/x-python",
   "name": "python",
   "nbconvert_exporter": "python",
   "pygments_lexer": "ipython3",
   "version": "3.10.8"
  }
 },
 "nbformat": 4,
 "nbformat_minor": 5
}
