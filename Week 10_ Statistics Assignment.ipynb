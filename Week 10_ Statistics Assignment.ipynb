{
 "cells": [
  {
   "cell_type": "code",
   "execution_count": 1,
   "id": "91467a6f-4121-4258-a468-2ca15e491c62",
   "metadata": {},
   "outputs": [],
   "source": [
    "# Question 1\n",
    "\n",
    "# Answer 1 - Statistics is the sciece of collecting, organizting and analyzing data."
   ]
  },
  {
   "cell_type": "code",
   "execution_count": 2,
   "id": "d379640e-7ccd-437c-abd2-4c73b783c56c",
   "metadata": {},
   "outputs": [],
   "source": [
    "# Question 2\n",
    "\n",
    "# Answer 2- Different types of statistics: -\n",
    "\n",
    "# 1. Descriptive Statistics - This consists of organizing and summarizing the data\n",
    "\n",
    "# 2. Inferential Statistics - This consists of usign data we have measured to form conclusions.\n",
    "\n",
    "# Examples -\n",
    "\n",
    "#1. Descriptive Statistics - e.g., getting the measures of central tendency (Mean, Median, Mode) of the data amd getting the \n",
    "# measures of dispersion # (variance, standard deviation) and preparing histogram, bar charts or pie charts of the data \n",
    "# consists of descriptive statistics\n",
    "\n",
    "#2. Inferential Statistics - e.g., with the data of student height of a specific class (Sample data) trying to get the\n",
    "# inferential data of the entire college student heights (population data) consists of inferential statistics"
   ]
  },
  {
   "cell_type": "code",
   "execution_count": 3,
   "id": "7591788e-e1f4-4b71-8586-0741b31ee29c",
   "metadata": {},
   "outputs": [],
   "source": [
    "# Question 3\n",
    "\n",
    "# Answer 3 - Types of Data: -\n",
    "\n",
    "# 1. Quantitative Data (Numerical Data): - Quantitative data is divided into 2 types of data\n",
    "# (a) Discrete Data - This type of data is a whole number with a specific range. e.g., Age, No. of Bank accounts, \n",
    "#     No. of children in a family, etc.\n",
    "# (b) Continuous Data - This type of data can have any value (including floating point numbers) e.g., Height, Weight, Temperature, etc.\n",
    "\n",
    "# 2. Qualitative Data (Categorical Data): - Qualitative data is divided into 2 types of data\n",
    "# (a) Nominal Data - This type of data has a fixed set of categories. e.g., Gender (Male or Female), Marital Status, Blood Group\n",
    "# (b) Ordinal Data - This type of data mostly can be ranked in a particular order. e.g., Customer Review Rating (Good-1,Neutral-2,Bad-3),\n",
    "#     Rank of students based of marks (Distinction, First Class, Second Class)\n"
   ]
  },
  {
   "cell_type": "code",
   "execution_count": 1,
   "id": "dc1575e5-3a94-4339-a2bd-cf383302c742",
   "metadata": {},
   "outputs": [],
   "source": [
    "# Question  4\n",
    "\n",
    "# Answer 4 - types of data with respect to quantitative and qualitative data types: -\n",
    "\n",
    "# 1. Grading in exam - Ordinal Data\n",
    "# 2. Color of Mangoes - Nominal Data\n",
    "# 3. Height data of a class - Continuous Data\n",
    "# 4. Number of Mangoes exported by a farm - Discrete Data"
   ]
  },
  {
   "cell_type": "code",
   "execution_count": 2,
   "id": "5e16f02e-1f3e-4c03-be37-7f31e478337a",
   "metadata": {},
   "outputs": [],
   "source": [
    "# Question 5\n",
    "\n",
    "# Answer 5 -\n",
    "# Levels of measurement, also called scales of measurement, tell you how precisely variables are recorded.\n",
    "# There are 4 levels of measurement: -\n",
    "# 1. Nominal Scale Data: the data can only be categorized and order does not matter. e.g. Gender, Marital Status, etc.\n",
    "# 2. Ordinal Scale Data: the data can be categorized , rank and order matters and difference cannot be measured. e.g. Qualification, etc.\n",
    "# 3. Interval Scale Data: the data can be categorized, rank & order matters, difference can be measured (except ratios) \n",
    "#    and it does not have a zero starting value. e.g., Temperature, etc.\n",
    "# 4. Ratio Scale Data: the data can be categorized, rank & order matters, difference & ratios can be measured \n",
    "#    and it does have a zero starting value. e.g., Grades, etc."
   ]
  },
  {
   "cell_type": "code",
   "execution_count": 4,
   "id": "ea519bbc-eda8-472d-9563-72ff039ea294",
   "metadata": {},
   "outputs": [],
   "source": [
    "# Question 6\n",
    "\n",
    "# Answer 6 - It is important to understand the level of measurement of variables in research, because the level of measurement \n",
    "# determines the type of statistical analysis that can be conducted, and, therefore, the type of conclusions that can be drawn \n",
    "# from the research. e.g., \n",
    "# 1. continuous data in interval scale data can be analyzed using the measures of central tendency \n",
    "# such as Mean, Median, Mode, etc. and the measures of dispersion such as variance, standard deviation, etc..\n",
    "# 2. nominal data in nominal scale data can be used to make inferences of a continuous or discrete data with respect to the \n",
    "# specific categorical variables such as, average height of males vs females in a class, average salary of males vs females \n",
    "# in an organization, etc."
   ]
  },
  {
   "cell_type": "code",
   "execution_count": 5,
   "id": "10cf4dc2-57d3-4fcd-a528-64a293ff43fa",
   "metadata": {},
   "outputs": [],
   "source": [
    "# Question 7 - \n",
    "\n",
    "# Answer 7 - Nominal data type is different from ordinal data type is that nominal data type has a fixed set of categories \n",
    "# and the rank & order does not matter in nominal data type (Gender, Marital Status, etc.), whereas in ordinal data type \n",
    "# the data contains fixed set of categories and the rank & order martters in ordinal data type (e.g., Customer Review rating, Grades, etc.)\n"
   ]
  },
  {
   "cell_type": "code",
   "execution_count": 6,
   "id": "bb77af8e-e2df-45be-b98b-edca2e930c3c",
   "metadata": {},
   "outputs": [],
   "source": [
    "# Question 8 -\n",
    "\n",
    "# Answer 8 - Histogram plot can be used to display data in terms of range."
   ]
  },
  {
   "cell_type": "code",
   "execution_count": 7,
   "id": "e888e4da-56ab-49a9-9bc8-933aa466f731",
   "metadata": {},
   "outputs": [],
   "source": [
    "# Question 9 -\n",
    "\n",
    "# Answer 9 - \n",
    "# 1. Descriptive Statistics - This consists of organizing and summarizing the data. \n",
    "# e.g., in descriptive statistics reports & graphs are prepared to summarize the data to visually showcase the data.\n",
    "\n",
    "# 2. Inferential Statistics - This consists of usign data we have measured to form conclusions.\n",
    "# e.g., in inferential statistics, basis the inferences drawn from the sample data could be applied to the population data,\n",
    "# such as basis the sample polls done during the exit polls inferences are drawn on the party winning a particular elections\n",
    "# and the margin of victory\n",
    "\n",
    "# Examples -\n",
    "\n",
    "#1. Descriptive Statistics - e.g., getting the measures of central tendency (Mean, Median, Mode) of the data amd getting the \n",
    "# measures of dispersion (variance, standard deviation) and preparing histogram, bar charts or pie charts of the data consists of \n",
    "# descriptive statistics\n",
    "\n",
    "#2. Inferential Statistics - e.g., with the data of student height of a specific class (Sample data) trying to get the\n",
    "# inferential data of the entire college student heights (population data) consists of inferential statistics"
   ]
  },
  {
   "cell_type": "code",
   "execution_count": 8,
   "id": "2b4b2c03-0b20-4e41-8c63-4fcb860d7bc3",
   "metadata": {},
   "outputs": [],
   "source": [
    "# Question 10 -\n",
    "\n",
    "# Answer 10 - common measures of central tendency and variability used in statistics: -\n",
    "\n",
    "# 1. Measures of central tendency -\n",
    "\n",
    "# a. Mean - This is the average value of the particular data set. The statistic gets affected due to outliers present in the dataset\n",
    "\n",
    "# b. Median - This is the value present in the middle index from the complete data set. \n",
    "#    This statistic does not get much affected due to outliers present in the dataset.\n",
    "\n",
    "# c. Mode - The mode is the most frequent score in our data set. On a histogram it represents the highest bar in a bar chart or histogram\n",
    "\n",
    "#2. Measures of Dispersion -\n",
    "\n",
    "# a. Variance - This statistic is used to identify how the data is spread around the mean\n",
    "# b. standard deviation - This statistic is used to identify how much data is spread near to the mean.\n",
    "# one standard deviation data contains the amount of data spread near to the mean "
   ]
  },
  {
   "cell_type": "code",
   "execution_count": null,
   "id": "72587770-61d7-4f26-b3df-032e2e334dff",
   "metadata": {},
   "outputs": [],
   "source": []
  }
 ],
 "metadata": {
  "kernelspec": {
   "display_name": "Python 3 (ipykernel)",
   "language": "python",
   "name": "python3"
  },
  "language_info": {
   "codemirror_mode": {
    "name": "ipython",
    "version": 3
   },
   "file_extension": ".py",
   "mimetype": "text/x-python",
   "name": "python",
   "nbconvert_exporter": "python",
   "pygments_lexer": "ipython3",
   "version": "3.10.8"
  }
 },
 "nbformat": 4,
 "nbformat_minor": 5
}
