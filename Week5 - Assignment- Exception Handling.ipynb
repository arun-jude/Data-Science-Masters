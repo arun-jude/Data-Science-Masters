{
 "cells": [
  {
   "cell_type": "code",
   "execution_count": 4,
   "id": "64b6006a-792a-4403-8152-c2e9b2464ca0",
   "metadata": {},
   "outputs": [],
   "source": [
    "# Question 1.\n",
    "# Exceptions are raised when the program is syntactically correct, but the code results in an error.\n",
    "# This error does not stop the execution of the program, however, it changes the normal flow of the program.\n",
    "# Difference between exceptions and syntax errors: -\n",
    "# Syntax errors happen at compile time and do not allow the program to run\n",
    "# exceptions are errors that occur during run time and exceptions needs to be handled during the run time of the code "
   ]
  },
  {
   "cell_type": "code",
   "execution_count": 5,
   "id": "fa762b2a-7973-4b15-934a-0df953a854a8",
   "metadata": {},
   "outputs": [],
   "source": [
    "# Question 2\n",
    "# Exceptions are errors that are detected during execution of a program. Whenever there is an error in a program, exceptions are raised.\n",
    "# If these exceptions are not handled, it drives the program into a halt state.\n",
    "# Exception handling in python is required to prevent the program from terminating abruptly."
   ]
  },
  {
   "cell_type": "code",
   "execution_count": 6,
   "id": "d943165b-1f66-48e1-907a-223582926868",
   "metadata": {},
   "outputs": [
    {
     "name": "stdout",
     "output_type": "stream",
     "text": [
      "there is some issue with my code  [Errno 2] No such file or directory: 'test10.txt'\n"
     ]
    }
   ],
   "source": [
    "# Question 3\n",
    "# \"try\" python statement is used to catch exceptions and \"except\" python statements are used to handle exceptions.\n",
    "# example of exception code\n",
    "try:\n",
    "    f = open(\"test10.txt\" , 'r')\n",
    "except FileNotFoundError as e :\n",
    "    print(\"there is some issue with my code \", e)"
   ]
  },
  {
   "cell_type": "code",
   "execution_count": 20,
   "id": "2abe783c-8de1-4845-a566-3307fbfc0441",
   "metadata": {},
   "outputs": [
    {
     "name": "stdout",
     "output_type": "stream",
     "text": [
      "This line prints when try code is completed successfully\n",
      "This line of code is executed when try code is completed successfully\n",
      "This line of code is executed irrespective of whether try code is executed successfully or not\n"
     ]
    },
    {
     "name": "stdin",
     "output_type": "stream",
     "text": [
      "Enter your Age:  abc\n"
     ]
    },
    {
     "name": "stdout",
     "output_type": "stream",
     "text": [
      "Age not numeric exception issue raised in input:  invalid literal for int() with base 10: 'abc' \n",
      "\n",
      "Actual input given was:  12\n"
     ]
    }
   ],
   "source": [
    "# Question 4.\n",
    "# example of try and else exception code\n",
    "try:\n",
    "    f = open(\"test.txt\" , 'r')\n",
    "except FileNotFoundError as e :\n",
    "    print(\"there is some issue with my code \", e)\n",
    "else:\n",
    "    print(\"This line prints when try code is completed successfully\")\n",
    "    \n",
    "# example of finally exception code\n",
    "\n",
    "try:\n",
    "    f = open(\"test.txt\" , 'r')\n",
    "except FileNotFoundError as e :\n",
    "    print(\"there is some issue with my code \", e)\n",
    "else:\n",
    "    print(\"This line of code is executed when try code is completed successfully\")\n",
    "finally:\n",
    "    print(\"This line of code is executed irrespective of whether try code is executed successfully or not\")\n",
    "\n",
    "# example of raise exception code\n",
    "\n",
    "try:\n",
    "    age=int(input(\"Enter your Age: \"))\n",
    "    if type(age)==int:\n",
    "        print (\"Age is numeric, no issues\")\n",
    "    else:\n",
    "        raise Exception\n",
    "except Exception as e:\n",
    "    print (\"Age not numeric exception issue raised in input: \",e,\"\\n\")\n",
    "    print(\"Actual input given was: \",age)\n",
    "    "
   ]
  },
  {
   "cell_type": "code",
   "execution_count": 28,
   "id": "3931d055-764d-49b0-98b7-94d34b42f3c6",
   "metadata": {},
   "outputs": [
    {
     "name": "stdin",
     "output_type": "stream",
     "text": [
      "enter the amount to be withdrawn:  abc\n"
     ]
    },
    {
     "name": "stdout",
     "output_type": "stream",
     "text": [
      "Amount should be an integer invalid literal for int() with base 10: 'abc'\n"
     ]
    }
   ],
   "source": [
    "# Question 5\n",
    "# Custom exceptions user defined exceptions required as part of the logic of the program\n",
    "# In Python, we can define custom exceptions by creating a new class that is derived from the built-in Exception class.\n",
    "# Custom exceptions are required to create user defined logic for the code. e.g., amount balance required from bank/ atm should always be greater than 0.\n",
    "\n",
    "class validateamount(Exception) : \n",
    "    def __init__(self, amount) :\n",
    "        self.amount = amount\n",
    "\n",
    "def validate_amount(amount) : \n",
    "    if amount < 0 :\n",
    "        if type (amount) != int:\n",
    "            raise validateamount(\"Amount should be an integer\")\n",
    "        else:\n",
    "            raise validateamount(\"Amount entered should not be lesser then zero\" ) \n",
    "    else :\n",
    "        print(\"Amount entered is valid\")\n",
    "\n",
    "try : \n",
    "    amount = int(input(\"enter the amount to be withdrawn: \"))\n",
    "    validate_amount(amount)\n",
    "except ValueError as e:\n",
    "    print (\"Amount should be an integer\", e)\n",
    "except validateamount as e : \n",
    "    print(e)\n",
    "    print(\"Amount entered was: \",amount)"
   ]
  },
  {
   "cell_type": "code",
   "execution_count": 29,
   "id": "1a076afa-700b-4c0d-9561-eef89bf7b600",
   "metadata": {},
   "outputs": [
    {
     "name": "stdin",
     "output_type": "stream",
     "text": [
      "enter the amount to be withdrawn:  -100\n"
     ]
    },
    {
     "name": "stdout",
     "output_type": "stream",
     "text": [
      "Amount entered should not be lesser then zero\n",
      "Amount entered was:  -100\n"
     ]
    }
   ],
   "source": [
    "# Question 6\n",
    "# Custom Exception class used to handle an exception of an amount entered should be a number greater than zero\n",
    "class validateamount(Exception) : \n",
    "    def __init__(self, amount) :\n",
    "        self.amount = amount\n",
    "\n",
    "def validate_amount(amount) : \n",
    "    if amount < 0 :\n",
    "        if type (amount) != int:\n",
    "            raise validateamount(\"Amount should be an integer\")\n",
    "        else:\n",
    "            raise validateamount(\"Amount entered should not be lesser then zero\" ) \n",
    "    else :\n",
    "        print(\"Amount entered is valid\")\n",
    "\n",
    "try : \n",
    "    amount = int(input(\"enter the amount to be withdrawn: \"))\n",
    "    validate_amount(amount)\n",
    "except ValueError as e:\n",
    "    print (\"Amount should be an integer\", e)\n",
    "except validateamount as e : \n",
    "    print(e)\n",
    "    print(\"Amount entered was: \",amount)\n"
   ]
  },
  {
   "cell_type": "code",
   "execution_count": null,
   "id": "e36c97f4-6e5f-47fa-ae10-697624d46ff3",
   "metadata": {},
   "outputs": [],
   "source": []
  }
 ],
 "metadata": {
  "kernelspec": {
   "display_name": "Python 3 (ipykernel)",
   "language": "python",
   "name": "python3"
  },
  "language_info": {
   "codemirror_mode": {
    "name": "ipython",
    "version": 3
   },
   "file_extension": ".py",
   "mimetype": "text/x-python",
   "name": "python",
   "nbconvert_exporter": "python",
   "pygments_lexer": "ipython3",
   "version": "3.10.8"
  }
 },
 "nbformat": 4,
 "nbformat_minor": 5
}
