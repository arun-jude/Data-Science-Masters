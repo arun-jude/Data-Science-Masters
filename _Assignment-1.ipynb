{
 "cells": [
  {
   "cell_type": "code",
   "execution_count": 4,
   "id": "6fe1051d-bf4d-418a-a6d1-713a15288d7f",
   "metadata": {},
   "outputs": [
    {
     "name": "stdout",
     "output_type": "stream",
     "text": [
      "<class 'str'>\n",
      "<class 'list'>\n",
      "<class 'float'>\n",
      "<class 'tuple'>\n"
     ]
    }
   ],
   "source": [
    "#Question 1\n",
    "str=\"Hello\"\n",
    "lst=[0,1,2,3,4]\n",
    "flt=2.0\n",
    "tpl=(0,1,2,3,4)\n",
    "print(type(str))\n",
    "print(type(lst))\n",
    "print(type(flt))\n",
    "print(type(tpl))"
   ]
  },
  {
   "cell_type": "code",
   "execution_count": 5,
   "id": "a28cc9f0-6568-457f-ae2f-320de2784a6d",
   "metadata": {},
   "outputs": [
    {
     "name": "stdout",
     "output_type": "stream",
     "text": [
      "<class 'str'>\n",
      "<class 'str'>\n",
      "<class 'list'>\n",
      "<class 'int'>\n"
     ]
    }
   ],
   "source": [
    "#Question 2\n",
    "var1=''\n",
    "var2='[DS,ML,Python]'\n",
    "var3=['DS','ML','Python']\n",
    "var4=1\n",
    "print(type(var1))\n",
    "print(type(var2))\n",
    "print(type(var3))\n",
    "print(type(var4))"
   ]
  },
  {
   "cell_type": "code",
   "execution_count": 6,
   "id": "e6335fcd-e601-4ae7-acfc-ee0817375f33",
   "metadata": {},
   "outputs": [
    {
     "name": "stdout",
     "output_type": "stream",
     "text": [
      "2.0\n",
      "0\n",
      "2\n",
      "100000\n"
     ]
    }
   ],
   "source": [
    "# Question 3\n",
    "a=10\n",
    "b=5\n",
    "c=a/b\n",
    "print(c)\n",
    "d=a%b\n",
    "print(d)\n",
    "e=a//b\n",
    "print(e)\n",
    "f=a**b\n",
    "print(f)"
   ]
  },
  {
   "cell_type": "code",
   "execution_count": 7,
   "id": "4610100c-b81c-4b84-8031-bdd104562195",
   "metadata": {},
   "outputs": [
    {
     "name": "stdout",
     "output_type": "stream",
     "text": [
      "1\n",
      "<class 'int'>\n",
      "2.0\n",
      "<class 'float'>\n",
      "True\n",
      "<class 'bool'>\n",
      "(4+7j)\n",
      "<class 'complex'>\n",
      "Programming\n",
      "<class 'str'>\n",
      "Language\n",
      "<class 'str'>\n",
      "Welcome\n",
      "<class 'str'>\n",
      "to\n",
      "<class 'str'>\n",
      "PWSkills\n",
      "<class 'str'>\n",
      "Hello\n",
      "<class 'str'>\n"
     ]
    }
   ],
   "source": [
    "#Question 4\n",
    "lst=[1,2.0,True,4+7j,\"Programming\",\"Language\",\"Welcome\",\"to\",\"PWSkills\",\"Hello\"]\n",
    "for i in lst:\n",
    "    print(i)\n",
    "    print(type(i))\n",
    "     "
   ]
  },
  {
   "cell_type": "code",
   "execution_count": 18,
   "id": "72f4d629-33b9-4d2e-abf4-6f866bb35acb",
   "metadata": {},
   "outputs": [
    {
     "name": "stdout",
     "output_type": "stream",
     "text": [
      "1  is not divisible by 3\n",
      "2  is not divisible by 3\n",
      "3  is divisible by 3\n",
      "4  is not divisible by 3\n",
      "5  is not divisible by 3\n",
      "6  is divisible by 3\n",
      "7  is not divisible by 3\n",
      "8  is not divisible by 3\n",
      "9  is divisible by 3\n",
      "10  is not divisible by 3\n",
      "11  is not divisible by 3\n",
      "12  is divisible by 3\n",
      "13  is not divisible by 3\n",
      "14  is not divisible by 3\n",
      "15  is divisible by 3\n",
      "16  is not divisible by 3\n",
      "17  is not divisible by 3\n",
      "18  is divisible by 3\n",
      "19  is not divisible by 3\n",
      "20  is not divisible by 3\n",
      "21  is divisible by 3\n",
      "22  is not divisible by 3\n",
      "23  is not divisible by 3\n",
      "24  is divisible by 3\n",
      "25  is not divisible by 3\n"
     ]
    }
   ],
   "source": [
    "#Question 6\n",
    "lst=[1,2,3,4,5,6,7,8,9,10,11,12,13,14,15,16,17,18,19,20,21,22,23,24,25]\n",
    "for i in lst:\n",
    "    if i%3==0:\n",
    "        print(i,\" is divisible by 3\")\n",
    "    else:\n",
    "        print(i, \" is not divisible by 3\")\n",
    "        "
   ]
  },
  {
   "cell_type": "code",
   "execution_count": 22,
   "id": "01106021-c0b7-41e4-b6d8-31edc9be8674",
   "metadata": {},
   "outputs": [
    {
     "name": "stdout",
     "output_type": "stream",
     "text": [
      "400  is divisible by  2\n",
      "400  is divisible by  2   4 times\n"
     ]
    }
   ],
   "source": [
    "#Question 5\n",
    "a=400\n",
    "b=2\n",
    "i=0\n",
    "final=a\n",
    "if a%b==0:\n",
    "    print(a,\" is divisible by \",b)\n",
    "    while a%b==0:\n",
    "        a=a/b\n",
    "        i+=1\n",
    "    else:\n",
    "        print(final,\" is divisible by \",b,\" \",i,\"times\")\n",
    "else:\n",
    "    print(a,\" is not divisible by \",b)"
   ]
  },
  {
   "cell_type": "code",
   "execution_count": 30,
   "id": "aa3732e8-b7cf-4e48-8d93-77d514792437",
   "metadata": {},
   "outputs": [
    {
     "name": "stdout",
     "output_type": "stream",
     "text": [
      "[1, 2.0, (4+1j), 'Hello']\n",
      "[22.0, 2.0, (4+1j), 'Hello']\n",
      "Hello\n",
      "World\n"
     ]
    }
   ],
   "source": [
    "# Question 7\n",
    "#list variables are mutable\n",
    "s=\"Hello\"\n",
    "lst=[1,2.0,4+1j]\n",
    "lst.append(\"Hello\")\n",
    "print(lst)\n",
    "lst[0]=22.0\n",
    "print(lst)\n",
    "print(s)\n",
    "s=\"World\"\n",
    "print(s)"
   ]
  },
  {
   "cell_type": "code",
   "execution_count": 31,
   "id": "847a0bf0-08f4-470e-8f97-909ffee772d9",
   "metadata": {},
   "outputs": [
    {
     "ename": "TypeError",
     "evalue": "'str' object does not support item assignment",
     "output_type": "error",
     "traceback": [
      "\u001b[0;31m---------------------------------------------------------------------------\u001b[0m",
      "\u001b[0;31mTypeError\u001b[0m                                 Traceback (most recent call last)",
      "Cell \u001b[0;32mIn[31], line 1\u001b[0m\n\u001b[0;32m----> 1\u001b[0m \u001b[43ms\u001b[49m\u001b[43m[\u001b[49m\u001b[38;5;241;43m0\u001b[39;49m\u001b[43m]\u001b[49m\u001b[38;5;241m=\u001b[39m\u001b[38;5;124m\"\u001b[39m\u001b[38;5;124mY\u001b[39m\u001b[38;5;124m\"\u001b[39m\n",
      "\u001b[0;31mTypeError\u001b[0m: 'str' object does not support item assignment"
     ]
    }
   ],
   "source": [
    "#string variables are immutable.However, whole string values can be changed\n",
    "s[0]=\"Y\""
   ]
  },
  {
   "cell_type": "code",
   "execution_count": null,
   "id": "0c5ded63-0d89-4358-8db1-68db4588cedc",
   "metadata": {},
   "outputs": [],
   "source": []
  }
 ],
 "metadata": {
  "kernelspec": {
   "display_name": "Python 3 (ipykernel)",
   "language": "python",
   "name": "python3"
  },
  "language_info": {
   "codemirror_mode": {
    "name": "ipython",
    "version": 3
   },
   "file_extension": ".py",
   "mimetype": "text/x-python",
   "name": "python",
   "nbconvert_exporter": "python",
   "pygments_lexer": "ipython3",
   "version": "3.10.8"
  }
 },
 "nbformat": 4,
 "nbformat_minor": 5
}
