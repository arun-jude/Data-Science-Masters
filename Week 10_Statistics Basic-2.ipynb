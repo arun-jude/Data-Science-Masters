{
 "cells": [
  {
   "cell_type": "code",
   "execution_count": 1,
   "id": "e34cf118-4676-4176-8f57-3af12bae66b1",
   "metadata": {},
   "outputs": [],
   "source": [
    "# Question 1\n",
    "\n",
    "# Answer 1 - Three measures of central tendency are:- \n",
    "\n",
    "# 1. Mean\n",
    "# 2. Median\n",
    "# 3. Mode"
   ]
  },
  {
   "cell_type": "code",
   "execution_count": 14,
   "id": "f421f4cd-7c95-4267-b8bc-461c345e6463",
   "metadata": {},
   "outputs": [],
   "source": [
    "# Question 2\n",
    "# Answer 2 - Difference between mean, median & mode: -\n",
    "# Mean is the average value of set of given data. mean gets affected due to outliers present in the dataset\n",
    "# median is the middle value when the data set is arranged in an order either ascending or descending. median is least affected due to outliers \n",
    "# in the dataset\n",
    "# mode is the most frequent value present in the dataset. mode of the dataset also does not get much affected by outliers in the dataset.\n",
    "# mode is mostly used for categorical data to find the most poular category in the dataset.\n",
    "\n",
    "# use of mean, median & mode to measure central tendency of a dataset: -\n",
    "# 1. The mode can be used for any level of measurement, but it’s most meaningful for nominal and ordinal levels.\n",
    "# 2. The median can only be used on data that can be ordered or ranked – that is, from ordinal, interval and ratio levels of measurement.\n",
    "# 3. The mean can only be used on interval and ratio levels of measurement \n",
    "#    because it requires equal spacing between adjacent values or scores in the scale."
   ]
  },
  {
   "cell_type": "code",
   "execution_count": 18,
   "id": "70c9dc6c-f3e3-4df9-84aa-e72a8f52997e",
   "metadata": {},
   "outputs": [
    {
     "name": "stdout",
     "output_type": "stream",
     "text": [
      "Mean of the Dataset is:  177.01875 \n",
      "\n",
      "Median of the Dataset is:  177.0 \n",
      "\n",
      "Mode of the Dataset is:  177.0 \n",
      "\n"
     ]
    },
    {
     "name": "stderr",
     "output_type": "stream",
     "text": [
      "/tmp/ipykernel_123/1612780851.py:12: FutureWarning: Unlike other reduction functions (e.g. `skew`, `kurtosis`), the default behavior of `mode` typically preserves the axis it acts along. In SciPy 1.11.0, this behavior will change: the default value of `keepdims` will become False, the `axis` over which the statistic is taken will be eliminated, and the value None will no longer be accepted. Set `keepdims` to True or False to avoid this warning.\n",
      "  print(\"Mode of the Dataset is: \",float(stat.mode(lst).mode),\"\\r\\n\")\n"
     ]
    }
   ],
   "source": [
    "# Question 3\n",
    "\n",
    "# Answer 3 -\n",
    "\n",
    "import pandas as pd\n",
    "import scipy.stats as stat\n",
    "\n",
    "lst=[178,177,176,177,178.2,178,175,179,180,175,178.9,176.2,177,172.5,178,176.5]\n",
    "df=pd.DataFrame(lst)\n",
    "print(\"Mean of the Dataset is: \",float(df.mean()),\"\\r\\n\")\n",
    "print(\"Median of the Dataset is: \",float(df.median()),\"\\r\\n\")\n",
    "print(\"Mode of the Dataset is: \",float(stat.mode(lst).mode),\"\\r\\n\")"
   ]
  },
  {
   "cell_type": "code",
   "execution_count": 19,
   "id": "27526ed3-8c55-40cc-acb6-ee1f1f15fd9c",
   "metadata": {},
   "outputs": [
    {
     "name": "stdout",
     "output_type": "stream",
     "text": [
      "Median of the Dataset is:  177.0\n"
     ]
    }
   ],
   "source": [
    "# Question 4\n",
    "\n",
    "# Answer 4 -\n",
    "\n",
    "import pandas as pd\n",
    "\n",
    "lst=[178,177,176,177,178.2,178,175,179,180,175,178.9,176.2,177,172.5,178,176.5]\n",
    "df=pd.DataFrame(lst)\n",
    "print(\"Median of the Dataset is: \",float(df.median()))"
   ]
  },
  {
   "cell_type": "code",
   "execution_count": 20,
   "id": "ea9f9ec5-a474-4078-a1e2-09b6dfe35d4f",
   "metadata": {},
   "outputs": [],
   "source": [
    "# Question 5\n",
    "\n",
    "# Answer 5 -\n",
    "# 1. Range - Range refers to the difference between each series’ minimum and maximum values. \n",
    "#    The range offers us a good indication of how dispersed the data is. Range = X max – X min\n",
    "\n",
    "# 2. Standard Deviation - It is the positive square root of the arithmetic mean of the squares of the deviations of the given values\n",
    "#   from their arithmetic mean. The standard deviation gives the amount of concentration of the dataset near to the mean of the dataset.\n",
    "#   The lower the standard deviation, the more concentrated the dataset is near to the mean value.\n",
    "\n",
    "# 3. Variance - The square of the standard deviation is the variance. Variance talks about the spread of the data.\n",
    "# Narrow spread points to a low variance and wide spread points to a high variance"
   ]
  },
  {
   "cell_type": "code",
   "execution_count": 21,
   "id": "999004c6-7451-4407-919c-090e71d6a651",
   "metadata": {},
   "outputs": [],
   "source": [
    "# Question 6 \n",
    "\n",
    "# Answer 6 - A Venn diagram is an illustration that uses circles to show the relationships among things or finite groups of things. \n",
    "# Circles that overlap have a commonality while circles that do not overlap do not share those traits.\n",
    "# Venn diagrams help to visually represent the similarities and differences between two concepts.\n"
   ]
  },
  {
   "cell_type": "code",
   "execution_count": 22,
   "id": "757968f8-1bea-447a-95d2-8ca8e5fdd3aa",
   "metadata": {},
   "outputs": [],
   "source": [
    "# Question 7\n",
    "\n",
    "# Answer 7 - A = (2,3,4,5,6,7) & B = (0,2,6,8,10)\n",
    "\n",
    "# 1. A Intersection B - (2,6)\n",
    "\n",
    "# 2. A Union B - (0,2,3,4,5,6,7,8,10)"
   ]
  },
  {
   "cell_type": "code",
   "execution_count": 23,
   "id": "79d2e3a2-69f6-4d48-8454-295f91e69ca5",
   "metadata": {},
   "outputs": [],
   "source": [
    "# Question 8 -\n",
    "\n",
    "# Answer 8 -\n",
    "\n",
    "# Skewness is a measure of the asymmetry of a distribution. A distribution is asymmetrical when its left and right side are not mirror images."
   ]
  },
  {
   "cell_type": "code",
   "execution_count": 24,
   "id": "68e061be-93b7-4638-9336-d4864bcf8fcc",
   "metadata": {},
   "outputs": [],
   "source": [
    "# Question 9 \n",
    "\n",
    "# Answer 9 -\n",
    "# If a data is right skewed then the position of median with respect to mean would be; Mean> Median\n",
    "# (i.e, Mean would be greater than median and mean would be more towards the right of the distribution than the median of the distribution)"
   ]
  },
  {
   "cell_type": "code",
   "execution_count": 25,
   "id": "bf1de29e-41b5-4486-a1ee-38615f7929f1",
   "metadata": {},
   "outputs": [],
   "source": [
    "# Question 10\n",
    "\n",
    "# Answer 10 -\n",
    "# Covariance indicates the direction of the linear relationship between variables. Covariance does not have a specific limit value\n",
    "# A positive value indicates a positive direction of linear relationship between the variables and vice-versa for negative value\n",
    "\n",
    "# Correlation on the other hand measures both the strength and direction of the linear relationship between two variables.\n",
    "# Correlation typically has range from -1 to 1.\n",
    "# The more the value is towards +1 the more positive correlated the two variables are.\n",
    "# the more the value is towards -1 the more negative correlated the two variables are.\n",
    "\n",
    "# Covariance and Correlation are used in statistical analysis to find out the independent features or variables which are having \n",
    "# either a strong postive or negative correlation to the output feature or variable"
   ]
  },
  {
   "cell_type": "code",
   "execution_count": 26,
   "id": "36cbbae4-a6b7-4136-a3c4-74a36953881f",
   "metadata": {},
   "outputs": [],
   "source": [
    "# Question 11\n",
    "\n",
    "# Answer 11 - Formula for calculating Sample mean; \n",
    "# s = Summation (i to n) [x (i)/ n]\n",
    "\n",
    "# e.g., A = [1,2,3,4,5]\n",
    "# Mean,  s= (1+2+3+4+5)/5\n",
    "# s = 15/5\n",
    "# s = 3\n"
   ]
  },
  {
   "cell_type": "code",
   "execution_count": 27,
   "id": "35275cff-281b-456d-9fe0-b088f20b76a7",
   "metadata": {},
   "outputs": [],
   "source": [
    "# Question 12\n",
    "\n",
    "# Answer 12 - \n",
    "# For a normal distribution data, the relationship between the measure of central tendency is that; Mean = Median = Mode.\n",
    "\n",
    "# i.e, Mean, median and mode are same for a normally distributed data"
   ]
  },
  {
   "cell_type": "code",
   "execution_count": 28,
   "id": "f2191cdd-b8cb-424f-ae22-a2af864dc899",
   "metadata": {},
   "outputs": [],
   "source": [
    "# Question 13\n",
    "\n",
    "# Answer 13 -\n",
    "# Covariance indicates the direction of the linear relationship between variables. Covariance does not have a specific limit value\n",
    "# A positive value indicates a positive direction of linear relationship between the variables and vice-versa for negative value\n",
    "\n",
    "# Correlation on the other hand measures both the strength and direction of the linear relationship between two variables.\n",
    "# Correlation typically has range from -1 to 1.\n",
    "# The more the value is towards +1 the more positive correlated the two variables are.\n",
    "# the more the value is towards -1 the more negative correlated the two variables are."
   ]
  },
  {
   "cell_type": "code",
   "execution_count": 36,
   "id": "5d0e821f-1cdf-4bad-a4dd-4f8f32e19143",
   "metadata": {},
   "outputs": [
    {
     "name": "stdout",
     "output_type": "stream",
     "text": [
      "Mean of the Dataset is:  3.0 \n",
      "\n",
      "Median of the Dataset is:  3.0 \n",
      "\n",
      "Variance of the Dataset is:  2.5 \n",
      "\n",
      "Standard Deviation of the Dataset is:  1.5811388300841898 \n",
      "\n",
      "Mean of the Outlier Dataset is:  22.0 \n",
      "\n",
      "Median of the Outlier Dataset is:  3.0 \n",
      "\n",
      "Variance of the Outlier Dataset is:  1902.5 \n",
      "\n",
      "Standard Deviation of the Dataset is:  43.617656975128774 \n",
      "\n"
     ]
    }
   ],
   "source": [
    "# Question 14\n",
    "\n",
    "# Answer 14 - Effect of outliers on Measures of central tendency -\n",
    "# Outliers affect the mean value of the data but have little effect on the median or mode of a given set of data.\n",
    "\n",
    "# Effect of outliers on Measures of dispersion -\n",
    "\n",
    "# since outliers affect the mean value of the dataset , hence it also affects the variance and standard deviation.\n",
    "\n",
    "# if the mean is increased due to the presence of the outlier, the standard deviation and variance would be increased. \n",
    "# There is a positive relationship between the increase of mean and the standard deviation (or variance)\n",
    "\n",
    "# E.g.,\n",
    "\n",
    "import pandas as pd\n",
    "\n",
    "lst =[1,2,3,4,5]\n",
    "df=pd.DataFrame(lst)\n",
    "print(\"Mean of the Dataset is: \",float(df.mean()),\"\\r\\n\")\n",
    "print(\"Median of the Dataset is: \",float(df.median()),\"\\r\\n\")\n",
    "print(\"Variance of the Dataset is: \",float(df.var()),\"\\r\\n\")\n",
    "print(\"Standard Deviation of the Dataset is: \",float(df.std()),\"\\r\\n\")\n",
    "\n",
    "\n",
    "rev_lst=[1,2,3,4,100]\n",
    "\n",
    "df=pd.DataFrame(rev_lst)\n",
    "print(\"Mean of the Outlier Dataset is: \",float(df.mean()),\"\\r\\n\")\n",
    "print(\"Median of the Outlier Dataset is: \",float(df.median()),\"\\r\\n\")\n",
    "print(\"Variance of the Outlier Dataset is: \",float(df.var()),\"\\r\\n\")\n",
    "print(\"Standard Deviation of the Dataset is: \",float(df.std()),\"\\r\\n\")"
   ]
  },
  {
   "cell_type": "code",
   "execution_count": null,
   "id": "f051a19e-15df-4d54-9401-43152a931786",
   "metadata": {},
   "outputs": [],
   "source": []
  }
 ],
 "metadata": {
  "kernelspec": {
   "display_name": "Python 3 (ipykernel)",
   "language": "python",
   "name": "python3"
  },
  "language_info": {
   "codemirror_mode": {
    "name": "ipython",
    "version": 3
   },
   "file_extension": ".py",
   "mimetype": "text/x-python",
   "name": "python",
   "nbconvert_exporter": "python",
   "pygments_lexer": "ipython3",
   "version": "3.10.8"
  }
 },
 "nbformat": 4,
 "nbformat_minor": 5
}
