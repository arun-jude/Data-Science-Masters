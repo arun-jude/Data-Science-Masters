{
 "cells": [
  {
   "cell_type": "code",
   "execution_count": 2,
   "id": "f9e6467e-5e2c-4077-90c1-9a5db6bf4d96",
   "metadata": {},
   "outputs": [
    {
     "data": {
      "text/plain": [
       "[1, 3, 5, 7, 9, 11, 13, 15, 17, 19, 21, 23]"
      ]
     },
     "execution_count": 2,
     "metadata": {},
     "output_type": "execute_result"
    }
   ],
   "source": [
    "# Question 1. def keyword is used to create a function\n",
    "\n",
    "def odd_num():\n",
    "    lst=[]\n",
    "    for i in range(1,25):\n",
    "        if i%2!=0:\n",
    "            lst.append(i)\n",
    "    return lst\n",
    "\n",
    "odd_num()"
   ]
  },
  {
   "cell_type": "code",
   "execution_count": 13,
   "id": "df07515b-c19d-4236-bbe5-5af50872844e",
   "metadata": {},
   "outputs": [
    {
     "name": "stdout",
     "output_type": "stream",
     "text": [
      "4\n",
      "16\n",
      "36\n",
      "64\n"
     ]
    },
    {
     "data": {
      "text/plain": [
       "{'name': 'xyz', 'age': 12, 'course': 'DSM'}"
      ]
     },
     "execution_count": 13,
     "metadata": {},
     "output_type": "execute_result"
    }
   ],
   "source": [
    "#Question 2. * args is used to pass any number of arguments to a particular function and **kwargs is used to pass arguments as a key & value pair\n",
    "\n",
    "def multi_args(*args):\n",
    "    t1=[]\n",
    "    for i in args:\n",
    "        i=i*i\n",
    "        t1.append(i)\n",
    "    return t1\n",
    "\n",
    "a,b,c,d=multi_args(2,4,6,8)\n",
    "print(a)\n",
    "print(b)\n",
    "print(c)\n",
    "print(d)\n",
    "\n",
    "\n",
    "def keyvalue_args(**kwargs):\n",
    "    return kwargs\n",
    "\n",
    "keyvalue_args(name='xyz',age=12,course='DSM')"
   ]
  },
  {
   "cell_type": "code",
   "execution_count": 17,
   "id": "dd1b699a-f0dc-40cb-b38e-05df103081ad",
   "metadata": {},
   "outputs": [
    {
     "name": "stdout",
     "output_type": "stream",
     "text": [
      "2\n",
      "4\n",
      "6\n",
      "8\n",
      "10\n"
     ]
    }
   ],
   "source": [
    "# Question 3 : Iterator is an object that allows you to iterate over collections of data, such as lists, tuples, dictionaries, and sets.\n",
    "#For loop is used to initialise the iterator object\n",
    "\n",
    "lst1=[2, 4, 6, 8, 10, 12, 14, 16,18, 20]\n",
    "\n",
    "for i in range(0,5):\n",
    "    print(lst1[i])\n",
    "        "
   ]
  },
  {
   "cell_type": "code",
   "execution_count": 19,
   "id": "408c0901-c1c9-4426-8ecb-311bbac74a19",
   "metadata": {},
   "outputs": [
    {
     "name": "stdout",
     "output_type": "stream",
     "text": [
      "0\n",
      "1\n",
      "1\n",
      "2\n",
      "3\n",
      "5\n",
      "8\n",
      "13\n",
      "21\n",
      "34\n"
     ]
    }
   ],
   "source": [
    "#Question 4: a generator is a function that returns an iterator that produces a sequence of values when iterated over.\n",
    "# Generators are useful when we want to produce a large sequence of values, but we don't want to store all of them in memory at once.\n",
    "# yield statement returns a generator object to the one who calls the function which contains yield, instead of simply returning a value.\n",
    "#example of a generator function\n",
    "\n",
    "def fib_series(n):\n",
    "    a,b=0,1\n",
    "    for i in range(0,n):\n",
    "        yield a\n",
    "        a,b=b,a+b\n",
    "\n",
    "for i in fib_series(10):\n",
    "    print(i)"
   ]
  },
  {
   "cell_type": "code",
   "execution_count": 19,
   "id": "28a71640-67f6-4f4d-a43a-40152cdf3fbe",
   "metadata": {},
   "outputs": [
    {
     "name": "stdout",
     "output_type": "stream",
     "text": [
      "\n",
      "\n",
      " Print using for loop \n",
      " \n",
      "\n",
      "2\n",
      "3\n",
      "5\n",
      "7\n",
      "11\n",
      "13\n",
      "17\n",
      "19\n",
      "23\n",
      "29\n",
      "31\n",
      "37\n",
      "41\n",
      "43\n",
      "47\n",
      "53\n",
      "59\n",
      "61\n",
      "67\n",
      "71\n",
      "\n",
      "\n",
      " Print using next function \n",
      " \n",
      "\n",
      "2\n",
      "3\n",
      "5\n",
      "7\n",
      "11\n",
      "13\n",
      "17\n",
      "19\n",
      "23\n",
      "29\n",
      "31\n",
      "37\n",
      "41\n",
      "43\n",
      "47\n",
      "53\n",
      "59\n",
      "61\n",
      "67\n",
      "71\n"
     ]
    }
   ],
   "source": [
    "# Question 5 prime number generator function\n",
    "def prime_num_generator(n):\n",
    "    numbers=range(0,n+1)\n",
    "    flag=True\n",
    "    for num in numbers:\n",
    "        flag=True\n",
    "        if num>1:\n",
    "            if (num==3):\n",
    "                yield num\n",
    "                continue\n",
    "            for i in range(2,num):\n",
    "                if (num%i) == 0:\n",
    "                    flag=False\n",
    "                    break\n",
    "            if flag==True:\n",
    "                yield num\n",
    "\n",
    "print (\"\\n\\n Print using for loop \\n \\n\")\n",
    "count=20\n",
    "for i in prime_num_generator(1000):\n",
    "    if count>0:\n",
    "        print (i)\n",
    "        count-=1\n",
    "print (\"\\n\\n Print using next function \\n \\n\")\n",
    "count=20\n",
    "my_iter = iter(prime_num_generator(1000))\n",
    "for i in range(0,count):\n",
    "    print(next(my_iter))\n"
   ]
  },
  {
   "cell_type": "code",
   "execution_count": null,
   "id": "64447403-c32a-4ec9-bbcf-700aa40d9189",
   "metadata": {},
   "outputs": [],
   "source": []
  }
 ],
 "metadata": {
  "kernelspec": {
   "display_name": "Python 3 (ipykernel)",
   "language": "python",
   "name": "python3"
  },
  "language_info": {
   "codemirror_mode": {
    "name": "ipython",
    "version": 3
   },
   "file_extension": ".py",
   "mimetype": "text/x-python",
   "name": "python",
   "nbconvert_exporter": "python",
   "pygments_lexer": "ipython3",
   "version": "3.10.8"
  }
 },
 "nbformat": 4,
 "nbformat_minor": 5
}
