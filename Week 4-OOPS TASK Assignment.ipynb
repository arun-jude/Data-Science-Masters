{
 "cells": [
  {
   "cell_type": "code",
   "execution_count": 29,
   "id": "6b3f8152-2d7c-4edc-ab03-e42ad1ea4084",
   "metadata": {
    "tags": []
   },
   "outputs": [],
   "source": [
    "# Question 1\n",
    "\n",
    "class vehicle:\n",
    "    def __init__(self, name_of_vehicle, max_speed, average_of_vehicle):\n",
    "        self.name_of_vehicle=name_of_vehicle\n",
    "        self.max_speed=max_speed\n",
    "        self.average_of_vehicle=average_of_vehicle\n",
    "    def vehicle_details(self):\n",
    "        return self.name_of_vehicle, self.max_speed, self.average_of_vehicle"
   ]
  },
  {
   "cell_type": "code",
   "execution_count": 30,
   "id": "ad341e3b-4125-42d0-b860-8992659708db",
   "metadata": {},
   "outputs": [],
   "source": [
    "vehicle_obj=vehicle(\"Ferrari\",300,10)"
   ]
  },
  {
   "cell_type": "code",
   "execution_count": 31,
   "id": "a8a65f25-4e28-4837-882e-c01afdfc4bcb",
   "metadata": {},
   "outputs": [
    {
     "data": {
      "text/plain": [
       "('Ferrari', 300, 10)"
      ]
     },
     "execution_count": 31,
     "metadata": {},
     "output_type": "execute_result"
    }
   ],
   "source": [
    "vehicle_obj.vehicle_details()"
   ]
  },
  {
   "cell_type": "code",
   "execution_count": 60,
   "id": "caec2789-b3a8-4a7b-82ee-c7f0973d3a9f",
   "metadata": {},
   "outputs": [],
   "source": [
    "# Question 2\n",
    "class vehicle:\n",
    "    name_of_vehicle=\"\"\n",
    "    max_speed=0\n",
    "    average_of_vehicle=0\n",
    "    def __init__(self, name_of_vehicle, max_speed, average_of_vehicle):\n",
    "        self.name_of_vehicle=name_of_vehicle\n",
    "        self.max_speed=max_speed\n",
    "        self.average_of_vehicle=average_of_vehicle\n",
    "    def set_vehicle_details(self,name_of_vehicle, max_speed, average_of_vehicle):\n",
    "        self.name_of_vehicle=name_of_vehicle\n",
    "        self.max_speed=max_speed\n",
    "        self.average_of_vehicle=average_of_vehicle\n",
    "        \n",
    "    def vehicle_details(self):\n",
    "        return self.name_of_vehicle, self.max_speed, self.average_of_vehicle\n",
    "\n",
    "class car(vehicle):\n",
    "    def __init__(self,capacity):\n",
    "        self.capacity=capacity\n",
    "        \n",
    "    def seating_capacity(self,capacity):\n",
    "        a=[]\n",
    "        self.capacity=capacity\n",
    "        a=self.vehicle_details()\n",
    "        return a[0],self.capacity"
   ]
  },
  {
   "cell_type": "code",
   "execution_count": 61,
   "id": "84385e5b-88b1-4d75-b515-ec6c626d1abd",
   "metadata": {},
   "outputs": [],
   "source": [
    "car_obj=car(5)\n",
    "car_obj.set_vehicle_details(\"Maruti\",120,20)"
   ]
  },
  {
   "cell_type": "code",
   "execution_count": 62,
   "id": "b99bfa1a-341f-4340-b2de-28251b545a51",
   "metadata": {},
   "outputs": [
    {
     "data": {
      "text/plain": [
       "('Maruti', 4)"
      ]
     },
     "execution_count": 62,
     "metadata": {},
     "output_type": "execute_result"
    }
   ],
   "source": [
    "car_obj.seating_capacity(4)"
   ]
  },
  {
   "cell_type": "code",
   "execution_count": 28,
   "id": "0816d8d0-3779-4f3b-adc3-c41533206404",
   "metadata": {},
   "outputs": [
    {
     "name": "stdout",
     "output_type": "stream",
     "text": [
      "class 1 function\n"
     ]
    }
   ],
   "source": [
    "# Question 3\n",
    "# Multiple Inheritance example\n",
    "class class1:\n",
    "    def class1_func(self):\n",
    "        print(\"class 1 function\")\n",
    "        pass\n",
    "class class3:\n",
    "    def class3_func(self):\n",
    "        print(\"class 3 function\")\n",
    "        pass\n",
    "    \n",
    "class class4(class1, class3):\n",
    "    def class4_func(self):\n",
    "        print(\"class 4 function\")\n",
    "        pass\n",
    "class4_obj=class4()\n",
    "class4_obj.class1_func()"
   ]
  },
  {
   "cell_type": "code",
   "execution_count": 104,
   "id": "f3e5e134-449c-47c7-8219-32966ab86618",
   "metadata": {},
   "outputs": [],
   "source": [
    "# Question 4. Getter and setter in Python\n",
    "# the main purpose of using getters and setters in object-oriented programs is to ensure data encapsulation.\n",
    "# We use getters & setters to add validation logic around getting and setting a value.\n",
    "#To avoid direct access of a class field i.e. private variables cannot be accessed directly or modified by external user.\n",
    "\n",
    "class course:\n",
    "    def __init__(self, course_name,course_price):\n",
    "        self.course_name=course_name\n",
    "        self.__course_price=course_price\n",
    "    @property\n",
    "    def course_price_access(self):\n",
    "        return self.__course_price\n",
    "    \n",
    "    @course_price_access.setter\n",
    "    def course_price_set (self, price):\n",
    "        if price>=3500:\n",
    "            self.__course_price=price\n",
    "        else:\n",
    "            pass"
   ]
  },
  {
   "cell_type": "code",
   "execution_count": 105,
   "id": "8fa4d782-2ecc-42c7-b57f-1ece947aa938",
   "metadata": {},
   "outputs": [],
   "source": [
    "course_obj=course(\"DSM\",3500)"
   ]
  },
  {
   "cell_type": "code",
   "execution_count": 106,
   "id": "9bfbe668-a9bd-4432-89a1-9bfc62eb0d0d",
   "metadata": {},
   "outputs": [
    {
     "data": {
      "text/plain": [
       "3500"
      ]
     },
     "execution_count": 106,
     "metadata": {},
     "output_type": "execute_result"
    }
   ],
   "source": [
    "course_obj.course_price_access"
   ]
  },
  {
   "cell_type": "code",
   "execution_count": 107,
   "id": "edbccb1c-8f60-4502-89fd-c8a4e1ffc7c8",
   "metadata": {},
   "outputs": [],
   "source": [
    "course_obj.course_price_set=5000"
   ]
  },
  {
   "cell_type": "code",
   "execution_count": 108,
   "id": "8f936d84-90c5-4887-b89c-843fcea39dca",
   "metadata": {},
   "outputs": [
    {
     "data": {
      "text/plain": [
       "5000"
      ]
     },
     "execution_count": 108,
     "metadata": {},
     "output_type": "execute_result"
    }
   ],
   "source": [
    "course_obj.course_price_access"
   ]
  },
  {
   "cell_type": "code",
   "execution_count": 115,
   "id": "c8559837-4b4b-40f6-965a-79c5e7cabc2f",
   "metadata": {},
   "outputs": [
    {
     "name": "stdout",
     "output_type": "stream",
     "text": [
      "Parent variable is:  40\n",
      "Child variable is:  10\n"
     ]
    }
   ],
   "source": [
    "# Question 5. Method Overriding\n",
    "# Method overriding is an ability that allows a subclass or child class to provide a specific implementation of a method that is already provided by one of its parent classes.\n",
    "# When a method in a subclass has the same name, same parameters or signature and same return type(or sub-type) as a method in its super-class,\n",
    "# then the method in the subclass is said to override the method in the super-class.\n",
    "\n",
    "class parent:\n",
    "    def __init__(self,parent_variable):\n",
    "        self.parent_variable=parent_variable\n",
    "    def display(self):\n",
    "        print(\"Parent variable is: \",self.parent_variable)\n",
    "\n",
    "class child(parent):\n",
    "    def __init__ (self,child_variable):\n",
    "        self.child_variable=child_variable\n",
    "    def display(self):\n",
    "        print(\"Child variable is: \",self.child_variable)\n",
    "\n",
    "parent_obj=parent(40)\n",
    "parent_obj.display()\n",
    "        \n",
    "child_obj=child(10)\n",
    "child_obj.display()\n",
    "        "
   ]
  },
  {
   "cell_type": "code",
   "execution_count": null,
   "id": "3152bed6-5bce-494e-80aa-1147f917916d",
   "metadata": {},
   "outputs": [],
   "source": []
  }
 ],
 "metadata": {
  "kernelspec": {
   "display_name": "Python 3 (ipykernel)",
   "language": "python",
   "name": "python3"
  },
  "language_info": {
   "codemirror_mode": {
    "name": "ipython",
    "version": 3
   },
   "file_extension": ".py",
   "mimetype": "text/x-python",
   "name": "python",
   "nbconvert_exporter": "python",
   "pygments_lexer": "ipython3",
   "version": "3.10.8"
  }
 },
 "nbformat": 4,
 "nbformat_minor": 5
}
